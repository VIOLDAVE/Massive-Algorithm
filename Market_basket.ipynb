{
  "nbformat": 4,
  "nbformat_minor": 0,
  "metadata": {
    "colab": {
      "provenance": [],
      "authorship_tag": "ABX9TyOTPTSJ5hnomMAd6sRr4uP2",
      "include_colab_link": true
    },
    "kernelspec": {
      "name": "python3",
      "display_name": "Python 3"
    },
    "language_info": {
      "name": "python"
    }
  },
  "cells": [
    {
      "cell_type": "markdown",
      "metadata": {
        "id": "view-in-github",
        "colab_type": "text"
      },
      "source": [
        "<a href=\"https://colab.research.google.com/github/VIOLDAVE/Massive-Algorithm/blob/main/Market_basket.ipynb\" target=\"_parent\"><img src=\"https://colab.research.google.com/assets/colab-badge.svg\" alt=\"Open In Colab\"/></a>"
      ]
    },
    {
      "cell_type": "markdown",
      "source": [
        "Environment setup"
      ],
      "metadata": {
        "id": "FU04SwHzJOVS"
      }
    },
    {
      "cell_type": "markdown",
      "source": [
        "Upload the encryption key file"
      ],
      "metadata": {
        "id": "nudITIZewXO6"
      }
    },
    {
      "cell_type": "code",
      "execution_count": 13,
      "metadata": {
        "id": "Ge0OVOLD3Fl3",
        "colab": {
          "base_uri": "https://localhost:8080/",
          "height": 92
        },
        "outputId": "a737a1b6-cc45-4c44-e8e4-2d804c99ef92"
      },
      "outputs": [
        {
          "output_type": "display_data",
          "data": {
            "text/plain": [
              "<IPython.core.display.HTML object>"
            ],
            "text/html": [
              "\n",
              "     <input type=\"file\" id=\"files-ad20327e-f3e9-4580-a572-913b576caf77\" name=\"files[]\" multiple disabled\n",
              "        style=\"border:none\" />\n",
              "     <output id=\"result-ad20327e-f3e9-4580-a572-913b576caf77\">\n",
              "      Upload widget is only available when the cell has been executed in the\n",
              "      current browser session. Please rerun this cell to enable.\n",
              "      </output>\n",
              "      <script>// Copyright 2017 Google LLC\n",
              "//\n",
              "// Licensed under the Apache License, Version 2.0 (the \"License\");\n",
              "// you may not use this file except in compliance with the License.\n",
              "// You may obtain a copy of the License at\n",
              "//\n",
              "//      http://www.apache.org/licenses/LICENSE-2.0\n",
              "//\n",
              "// Unless required by applicable law or agreed to in writing, software\n",
              "// distributed under the License is distributed on an \"AS IS\" BASIS,\n",
              "// WITHOUT WARRANTIES OR CONDITIONS OF ANY KIND, either express or implied.\n",
              "// See the License for the specific language governing permissions and\n",
              "// limitations under the License.\n",
              "\n",
              "/**\n",
              " * @fileoverview Helpers for google.colab Python module.\n",
              " */\n",
              "(function(scope) {\n",
              "function span(text, styleAttributes = {}) {\n",
              "  const element = document.createElement('span');\n",
              "  element.textContent = text;\n",
              "  for (const key of Object.keys(styleAttributes)) {\n",
              "    element.style[key] = styleAttributes[key];\n",
              "  }\n",
              "  return element;\n",
              "}\n",
              "\n",
              "// Max number of bytes which will be uploaded at a time.\n",
              "const MAX_PAYLOAD_SIZE = 100 * 1024;\n",
              "\n",
              "function _uploadFiles(inputId, outputId) {\n",
              "  const steps = uploadFilesStep(inputId, outputId);\n",
              "  const outputElement = document.getElementById(outputId);\n",
              "  // Cache steps on the outputElement to make it available for the next call\n",
              "  // to uploadFilesContinue from Python.\n",
              "  outputElement.steps = steps;\n",
              "\n",
              "  return _uploadFilesContinue(outputId);\n",
              "}\n",
              "\n",
              "// This is roughly an async generator (not supported in the browser yet),\n",
              "// where there are multiple asynchronous steps and the Python side is going\n",
              "// to poll for completion of each step.\n",
              "// This uses a Promise to block the python side on completion of each step,\n",
              "// then passes the result of the previous step as the input to the next step.\n",
              "function _uploadFilesContinue(outputId) {\n",
              "  const outputElement = document.getElementById(outputId);\n",
              "  const steps = outputElement.steps;\n",
              "\n",
              "  const next = steps.next(outputElement.lastPromiseValue);\n",
              "  return Promise.resolve(next.value.promise).then((value) => {\n",
              "    // Cache the last promise value to make it available to the next\n",
              "    // step of the generator.\n",
              "    outputElement.lastPromiseValue = value;\n",
              "    return next.value.response;\n",
              "  });\n",
              "}\n",
              "\n",
              "/**\n",
              " * Generator function which is called between each async step of the upload\n",
              " * process.\n",
              " * @param {string} inputId Element ID of the input file picker element.\n",
              " * @param {string} outputId Element ID of the output display.\n",
              " * @return {!Iterable<!Object>} Iterable of next steps.\n",
              " */\n",
              "function* uploadFilesStep(inputId, outputId) {\n",
              "  const inputElement = document.getElementById(inputId);\n",
              "  inputElement.disabled = false;\n",
              "\n",
              "  const outputElement = document.getElementById(outputId);\n",
              "  outputElement.innerHTML = '';\n",
              "\n",
              "  const pickedPromise = new Promise((resolve) => {\n",
              "    inputElement.addEventListener('change', (e) => {\n",
              "      resolve(e.target.files);\n",
              "    });\n",
              "  });\n",
              "\n",
              "  const cancel = document.createElement('button');\n",
              "  inputElement.parentElement.appendChild(cancel);\n",
              "  cancel.textContent = 'Cancel upload';\n",
              "  const cancelPromise = new Promise((resolve) => {\n",
              "    cancel.onclick = () => {\n",
              "      resolve(null);\n",
              "    };\n",
              "  });\n",
              "\n",
              "  // Wait for the user to pick the files.\n",
              "  const files = yield {\n",
              "    promise: Promise.race([pickedPromise, cancelPromise]),\n",
              "    response: {\n",
              "      action: 'starting',\n",
              "    }\n",
              "  };\n",
              "\n",
              "  cancel.remove();\n",
              "\n",
              "  // Disable the input element since further picks are not allowed.\n",
              "  inputElement.disabled = true;\n",
              "\n",
              "  if (!files) {\n",
              "    return {\n",
              "      response: {\n",
              "        action: 'complete',\n",
              "      }\n",
              "    };\n",
              "  }\n",
              "\n",
              "  for (const file of files) {\n",
              "    const li = document.createElement('li');\n",
              "    li.append(span(file.name, {fontWeight: 'bold'}));\n",
              "    li.append(span(\n",
              "        `(${file.type || 'n/a'}) - ${file.size} bytes, ` +\n",
              "        `last modified: ${\n",
              "            file.lastModifiedDate ? file.lastModifiedDate.toLocaleDateString() :\n",
              "                                    'n/a'} - `));\n",
              "    const percent = span('0% done');\n",
              "    li.appendChild(percent);\n",
              "\n",
              "    outputElement.appendChild(li);\n",
              "\n",
              "    const fileDataPromise = new Promise((resolve) => {\n",
              "      const reader = new FileReader();\n",
              "      reader.onload = (e) => {\n",
              "        resolve(e.target.result);\n",
              "      };\n",
              "      reader.readAsArrayBuffer(file);\n",
              "    });\n",
              "    // Wait for the data to be ready.\n",
              "    let fileData = yield {\n",
              "      promise: fileDataPromise,\n",
              "      response: {\n",
              "        action: 'continue',\n",
              "      }\n",
              "    };\n",
              "\n",
              "    // Use a chunked sending to avoid message size limits. See b/62115660.\n",
              "    let position = 0;\n",
              "    do {\n",
              "      const length = Math.min(fileData.byteLength - position, MAX_PAYLOAD_SIZE);\n",
              "      const chunk = new Uint8Array(fileData, position, length);\n",
              "      position += length;\n",
              "\n",
              "      const base64 = btoa(String.fromCharCode.apply(null, chunk));\n",
              "      yield {\n",
              "        response: {\n",
              "          action: 'append',\n",
              "          file: file.name,\n",
              "          data: base64,\n",
              "        },\n",
              "      };\n",
              "\n",
              "      let percentDone = fileData.byteLength === 0 ?\n",
              "          100 :\n",
              "          Math.round((position / fileData.byteLength) * 100);\n",
              "      percent.textContent = `${percentDone}% done`;\n",
              "\n",
              "    } while (position < fileData.byteLength);\n",
              "  }\n",
              "\n",
              "  // All done.\n",
              "  yield {\n",
              "    response: {\n",
              "      action: 'complete',\n",
              "    }\n",
              "  };\n",
              "}\n",
              "\n",
              "scope.google = scope.google || {};\n",
              "scope.google.colab = scope.google.colab || {};\n",
              "scope.google.colab._files = {\n",
              "  _uploadFiles,\n",
              "  _uploadFilesContinue,\n",
              "};\n",
              "})(self);\n",
              "</script> "
            ]
          },
          "metadata": {}
        },
        {
          "output_type": "stream",
          "name": "stdout",
          "text": [
            "Saving kaggle (1).json to kaggle (1) (1).json\n"
          ]
        },
        {
          "output_type": "execute_result",
          "data": {
            "text/plain": [
              "{'kaggle (1) (1).json': b'{\"username\":\"violaawor2\",\"key\":\"b10218d275dad1e914008b49da4f407d\"}'}"
            ]
          },
          "metadata": {},
          "execution_count": 13
        }
      ],
      "source": [
        "from google.colab import files\n",
        "files.upload()"
      ]
    },
    {
      "cell_type": "markdown",
      "source": [
        "Rename the username and keyvalue"
      ],
      "metadata": {
        "id": "ZnpOwbhlwft_"
      }
    },
    {
      "cell_type": "code",
      "source": [
        "!ls\n"
      ],
      "metadata": {
        "colab": {
          "base_uri": "https://localhost:8080/"
        },
        "id": "lSUbpG4C8oCV",
        "outputId": "07be32aa-ad13-41ad-db95-41d5bf6d3826"
      },
      "execution_count": 21,
      "outputs": [
        {
          "output_type": "stream",
          "name": "stdout",
          "text": [
            "'kaggle (1) (1).json'   kaggle1.json   sample_data\n"
          ]
        }
      ]
    },
    {
      "cell_type": "code",
      "source": [
        "import os\n",
        "os.environ['violaawor2'] = \"xxxxxx\"\n",
        "os.environ['b10218d275dad1e914008b49da4f407d'] = \"xxxxxx\"\n",
        "#check list of files in the amazon\n",
        "!kaggle datasets list -s \"amazon book reviews\"\n",
        "\n"
      ],
      "metadata": {
        "colab": {
          "base_uri": "https://localhost:8080/"
        },
        "id": "Q7jbn2A3Hckh",
        "outputId": "48132e05-0331-43b5-c13a-5e140866d978"
      },
      "execution_count": 28,
      "outputs": [
        {
          "output_type": "stream",
          "name": "stdout",
          "text": [
            "ref                                                                title                                                     size  lastUpdated                 downloadCount  voteCount  usabilityRating  \n",
            "-----------------------------------------------------------------  --------------------------------------------------  ----------  --------------------------  -------------  ---------  ---------------  \n",
            "mohamedbakhet/amazon-books-reviews                                 Amazon Books Reviews                                1140283761  2022-09-13 23:04:08.787000          28238        198  1.0              \n",
            "anshtanwar/top-200-trending-books-with-reviews                     Top 100 Bestselling Book Reviews on Amazon              432142  2023-11-09 06:31:02.210000          15551        120  1.0              \n",
            "die9origephit/amazon-data-science-books                            Amazon Data Science Books Dataset                       109367  2023-01-05 03:01:16.353000           6556        109  1.0              \n",
            "meetnagadia/amazon-kindle-book-review-for-sentiment-analysis       Amazon Kindle Book Review for Sentiment Analysis       6686485  2021-09-03 11:52:29.630000           5316         56  1.0              \n",
            "vvorotnikov/amazon-data-science-book-reviews                       Amazon Data Science Book Reviews                       4025971  2020-08-26 10:12:27.123000            457         10  1.0              \n",
            "shrutimehta/amazon-book-reviews-webscraped                         Amazon Book Reviews (WebScraped)                       1459495  2018-03-04 22:51:06.697000           1290         16  0.7058824        \n",
            "abdallahwagih/books-dataset                                        Books Dataset                                          1657228  2023-12-13 02:26:07.263000           5381         88  1.0              \n",
            "abdulhamidadavize/top-100-best-selling-books-on-amazon-20092021    TOP 100 BEST SELLING BOOKS ON AMAZON 2009-2021          111752  2022-10-16 10:27:27.650000           2305         23  0.7941176        \n",
            "uzair01/amazon-books                                               Amazon Books details for computer science                30197  2023-09-26 20:11:34.780000            828         45  1.0              \n",
            "amritvirsinghx/audible-complete-catalog                            Audible Complete Catalog                                761760  2020-09-13 10:07:44.760000            632         53  1.0              \n",
            "shahriarkabir/amazon-100-bestselling-books-with-reviews-in-2024    Amazon 100 Bestselling Books with Reviews                87698  2024-06-06 01:23:17.980000            125         35  0.5882353        \n",
            "joebeachcapital/amazon-books                                       Amazon Books                                           1292690  2023-08-30 03:38:11.857000           1346         42  1.0              \n",
            "athu1105/tagmybook                                                 TagMyBook                                               696792  2022-09-09 10:46:14.507000           1936         32  1.0              \n",
            "nikkiperry/amazon-book-reviews-haruki-murakami                     Amazon Book Reviews: Haruki Murakami                   2195367  2023-03-13 16:53:23.207000             45          3  0.88235295       \n",
            "bhavikardeshna/amazon-customerreviews-polarity                     Amazon Customer-Reviews Polarity                     700672680  2022-06-27 19:10:45.673000            941         20  0.7941176        \n",
            "jiteshkumarsahoo/ml-and-ds-books-on-amazon14-countries             ML and DS books on Amazon[14 countries]                 312480  2023-11-08 12:49:06.587000            134         14  1.0              \n",
            "kashnitsky/exploring-transfer-learning-for-nlp                     Exploring transfer learning for NLP                  610568813  2019-06-12 11:07:13.660000            398         17  0.9411765        \n",
            "jiteshkumarsahoo/amazon-machine-learning-book-dataset11-countries  Amazon Machine Learning book dataset[11 Countries]      165159  2023-11-01 03:31:48.343000             88         13  0.9411765        \n",
            "smriti21/amazonbookreviews                                         Amazon-book-reviews                                   18629194  2020-04-21 11:52:03.137000            117          3  0.23529412       \n",
            "jiyoungkimpf/amazon-best-sellers-of-20102020-top-100-books         Amazon Best Sellers of 2010-2020 (Top 100 Books)         30329  2021-02-05 18:50:13.547000            831          9  0.8235294        \n"
          ]
        }
      ]
    },
    {
      "cell_type": "code",
      "source": [
        "# Set up Kaggle credentials\n",
        "!mkdir -p ~/.kaggle\n",
        "!mv \"kaggle (1).json\" ~/.kaggle/kaggle.json\n",
        "!chmod 600 ~/.kaggle/kaggle.json\n",
        "\n"
      ],
      "metadata": {
        "colab": {
          "base_uri": "https://localhost:8080/"
        },
        "id": "ETj55-5UZrA6",
        "outputId": "966f0b8f-7f2f-400c-d3e7-7061ff179250"
      },
      "execution_count": 30,
      "outputs": [
        {
          "output_type": "stream",
          "name": "stdout",
          "text": [
            "mv: cannot stat 'kaggle (1).json': No such file or directory\n"
          ]
        }
      ]
    },
    {
      "cell_type": "markdown",
      "source": [
        "download file"
      ],
      "metadata": {
        "id": "bOCq5Ol29_UL"
      }
    },
    {
      "cell_type": "code",
      "source": [
        "!kaggle datasets download -d mohamedbakhet/amazon-books-reviews"
      ],
      "metadata": {
        "colab": {
          "base_uri": "https://localhost:8080/"
        },
        "id": "SZrMjSi7JJie",
        "outputId": "b004a966-00b9-4aac-88fa-af078bd507d6"
      },
      "execution_count": 31,
      "outputs": [
        {
          "output_type": "stream",
          "name": "stdout",
          "text": [
            "Dataset URL: https://www.kaggle.com/datasets/mohamedbakhet/amazon-books-reviews\n",
            "License(s): CC0-1.0\n",
            "Downloading amazon-books-reviews.zip to /content\n",
            " 98% 1.04G/1.06G [00:17<00:00, 182MB/s]\n",
            "100% 1.06G/1.06G [00:21<00:00, 53.3MB/s]\n"
          ]
        }
      ]
    },
    {
      "cell_type": "markdown",
      "source": [
        "Unzip the books-review file"
      ],
      "metadata": {
        "id": "4_HSNa1U_ZOX"
      }
    },
    {
      "cell_type": "code",
      "source": [
        "!unzip amazon-books-reviews.zip\n",
        "\n"
      ],
      "metadata": {
        "colab": {
          "base_uri": "https://localhost:8080/"
        },
        "id": "O2aYoWluJ_cS",
        "outputId": "b264ccc9-3060-4a7c-a33f-739a1d6f5195"
      },
      "execution_count": 41,
      "outputs": [
        {
          "output_type": "stream",
          "name": "stdout",
          "text": [
            "Archive:  amazon-books-reviews.zip\n",
            "  inflating: Books_rating.csv        \n",
            "  inflating: books_data.csv          \n"
          ]
        }
      ]
    },
    {
      "cell_type": "markdown",
      "source": [
        "Load the file"
      ],
      "metadata": {
        "id": "x6nbT60lAHjU"
      }
    },
    {
      "cell_type": "code",
      "source": [
        "import pandas as pd\n",
        "Books_rating = pd.read_csv('Books_rating.csv')"
      ],
      "metadata": {
        "id": "3tEiFFqhcibh"
      },
      "execution_count": 43,
      "outputs": []
    },
    {
      "cell_type": "markdown",
      "source": [
        "Explorotory data analysis"
      ],
      "metadata": {
        "id": "c1fj6jnqALS1"
      }
    },
    {
      "cell_type": "code",
      "source": [
        "Books_rating.info()"
      ],
      "metadata": {
        "colab": {
          "base_uri": "https://localhost:8080/"
        },
        "id": "2_Bf4XQUAPHS",
        "outputId": "d9beb49e-25d4-47a8-8399-ba37369a8242"
      },
      "execution_count": 48,
      "outputs": [
        {
          "output_type": "stream",
          "name": "stdout",
          "text": [
            "<class 'pandas.core.frame.DataFrame'>\n",
            "RangeIndex: 3000000 entries, 0 to 2999999\n",
            "Data columns (total 10 columns):\n",
            " #   Column              Dtype  \n",
            "---  ------              -----  \n",
            " 0   Id                  object \n",
            " 1   Title               object \n",
            " 2   Price               float64\n",
            " 3   User_id             object \n",
            " 4   profileName         object \n",
            " 5   review/helpfulness  object \n",
            " 6   review/score        float64\n",
            " 7   review/time         int64  \n",
            " 8   review/summary      object \n",
            " 9   review/text         object \n",
            "dtypes: float64(2), int64(1), object(7)\n",
            "memory usage: 228.9+ MB\n"
          ]
        }
      ]
    }
  ]
}