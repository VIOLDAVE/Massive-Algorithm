{
  "nbformat": 4,
  "nbformat_minor": 0,
  "metadata": {
    "colab": {
      "provenance": [],
      "authorship_tag": "ABX9TyPXZj2Zw1KIV/h337ouo3b5",
      "include_colab_link": true
    },
    "kernelspec": {
      "name": "python3",
      "display_name": "Python 3"
    },
    "language_info": {
      "name": "python"
    },
    "widgets": {
      "application/vnd.jupyter.widget-state+json": {
        "30b25d8ebf33492a8066ccdfb9fa218f": {
          "model_module": "@jupyter-widgets/controls",
          "model_name": "HBoxModel",
          "model_module_version": "1.5.0",
          "state": {
            "_dom_classes": [],
            "_model_module": "@jupyter-widgets/controls",
            "_model_module_version": "1.5.0",
            "_model_name": "HBoxModel",
            "_view_count": null,
            "_view_module": "@jupyter-widgets/controls",
            "_view_module_version": "1.5.0",
            "_view_name": "HBoxView",
            "box_style": "",
            "children": [
              "IPY_MODEL_780c69afa5fa420faf62356d8d7296e7",
              "IPY_MODEL_952c8c2539e948f2bc6597fe881d04c3",
              "IPY_MODEL_26ee84a30962475f9305c2b2f9f32bc7"
            ],
            "layout": "IPY_MODEL_426cf024aafb4117b6aef2a05cd70119"
          }
        },
        "780c69afa5fa420faf62356d8d7296e7": {
          "model_module": "@jupyter-widgets/controls",
          "model_name": "HTMLModel",
          "model_module_version": "1.5.0",
          "state": {
            "_dom_classes": [],
            "_model_module": "@jupyter-widgets/controls",
            "_model_module_version": "1.5.0",
            "_model_name": "HTMLModel",
            "_view_count": null,
            "_view_module": "@jupyter-widgets/controls",
            "_view_module_version": "1.5.0",
            "_view_name": "HTMLView",
            "description": "",
            "description_tooltip": null,
            "layout": "IPY_MODEL_b9762a6938024998a91607b70ec8a55b",
            "placeholder": "​",
            "style": "IPY_MODEL_7dc20e0278ea48c08c4f9d1a86a8debd",
            "value": "Summarize dataset:  53%"
          }
        },
        "952c8c2539e948f2bc6597fe881d04c3": {
          "model_module": "@jupyter-widgets/controls",
          "model_name": "FloatProgressModel",
          "model_module_version": "1.5.0",
          "state": {
            "_dom_classes": [],
            "_model_module": "@jupyter-widgets/controls",
            "_model_module_version": "1.5.0",
            "_model_name": "FloatProgressModel",
            "_view_count": null,
            "_view_module": "@jupyter-widgets/controls",
            "_view_module_version": "1.5.0",
            "_view_name": "ProgressView",
            "bar_style": "",
            "description": "",
            "description_tooltip": null,
            "layout": "IPY_MODEL_7da945b6da6c4f168a6c6064612690cc",
            "max": 5,
            "min": 0,
            "orientation": "horizontal",
            "style": "IPY_MODEL_019a00156e0a499a985d3c98754b9f4f",
            "value": 5
          }
        },
        "26ee84a30962475f9305c2b2f9f32bc7": {
          "model_module": "@jupyter-widgets/controls",
          "model_name": "HTMLModel",
          "model_module_version": "1.5.0",
          "state": {
            "_dom_classes": [],
            "_model_module": "@jupyter-widgets/controls",
            "_model_module_version": "1.5.0",
            "_model_name": "HTMLModel",
            "_view_count": null,
            "_view_module": "@jupyter-widgets/controls",
            "_view_module_version": "1.5.0",
            "_view_name": "HTMLView",
            "description": "",
            "description_tooltip": null,
            "layout": "IPY_MODEL_529a94b10eca49d6a77af43d337886f3",
            "placeholder": "​",
            "style": "IPY_MODEL_a0148e0ba53545248be31a790e735834",
            "value": " 8/15 [01:56&lt;01:12, 10.34s/it, Describe variable: review/text]"
          }
        },
        "426cf024aafb4117b6aef2a05cd70119": {
          "model_module": "@jupyter-widgets/base",
          "model_name": "LayoutModel",
          "model_module_version": "1.2.0",
          "state": {
            "_model_module": "@jupyter-widgets/base",
            "_model_module_version": "1.2.0",
            "_model_name": "LayoutModel",
            "_view_count": null,
            "_view_module": "@jupyter-widgets/base",
            "_view_module_version": "1.2.0",
            "_view_name": "LayoutView",
            "align_content": null,
            "align_items": null,
            "align_self": null,
            "border": null,
            "bottom": null,
            "display": null,
            "flex": null,
            "flex_flow": null,
            "grid_area": null,
            "grid_auto_columns": null,
            "grid_auto_flow": null,
            "grid_auto_rows": null,
            "grid_column": null,
            "grid_gap": null,
            "grid_row": null,
            "grid_template_areas": null,
            "grid_template_columns": null,
            "grid_template_rows": null,
            "height": null,
            "justify_content": null,
            "justify_items": null,
            "left": null,
            "margin": null,
            "max_height": null,
            "max_width": null,
            "min_height": null,
            "min_width": null,
            "object_fit": null,
            "object_position": null,
            "order": null,
            "overflow": null,
            "overflow_x": null,
            "overflow_y": null,
            "padding": null,
            "right": null,
            "top": null,
            "visibility": null,
            "width": null
          }
        },
        "b9762a6938024998a91607b70ec8a55b": {
          "model_module": "@jupyter-widgets/base",
          "model_name": "LayoutModel",
          "model_module_version": "1.2.0",
          "state": {
            "_model_module": "@jupyter-widgets/base",
            "_model_module_version": "1.2.0",
            "_model_name": "LayoutModel",
            "_view_count": null,
            "_view_module": "@jupyter-widgets/base",
            "_view_module_version": "1.2.0",
            "_view_name": "LayoutView",
            "align_content": null,
            "align_items": null,
            "align_self": null,
            "border": null,
            "bottom": null,
            "display": null,
            "flex": null,
            "flex_flow": null,
            "grid_area": null,
            "grid_auto_columns": null,
            "grid_auto_flow": null,
            "grid_auto_rows": null,
            "grid_column": null,
            "grid_gap": null,
            "grid_row": null,
            "grid_template_areas": null,
            "grid_template_columns": null,
            "grid_template_rows": null,
            "height": null,
            "justify_content": null,
            "justify_items": null,
            "left": null,
            "margin": null,
            "max_height": null,
            "max_width": null,
            "min_height": null,
            "min_width": null,
            "object_fit": null,
            "object_position": null,
            "order": null,
            "overflow": null,
            "overflow_x": null,
            "overflow_y": null,
            "padding": null,
            "right": null,
            "top": null,
            "visibility": null,
            "width": null
          }
        },
        "7dc20e0278ea48c08c4f9d1a86a8debd": {
          "model_module": "@jupyter-widgets/controls",
          "model_name": "DescriptionStyleModel",
          "model_module_version": "1.5.0",
          "state": {
            "_model_module": "@jupyter-widgets/controls",
            "_model_module_version": "1.5.0",
            "_model_name": "DescriptionStyleModel",
            "_view_count": null,
            "_view_module": "@jupyter-widgets/base",
            "_view_module_version": "1.2.0",
            "_view_name": "StyleView",
            "description_width": ""
          }
        },
        "7da945b6da6c4f168a6c6064612690cc": {
          "model_module": "@jupyter-widgets/base",
          "model_name": "LayoutModel",
          "model_module_version": "1.2.0",
          "state": {
            "_model_module": "@jupyter-widgets/base",
            "_model_module_version": "1.2.0",
            "_model_name": "LayoutModel",
            "_view_count": null,
            "_view_module": "@jupyter-widgets/base",
            "_view_module_version": "1.2.0",
            "_view_name": "LayoutView",
            "align_content": null,
            "align_items": null,
            "align_self": null,
            "border": null,
            "bottom": null,
            "display": null,
            "flex": null,
            "flex_flow": null,
            "grid_area": null,
            "grid_auto_columns": null,
            "grid_auto_flow": null,
            "grid_auto_rows": null,
            "grid_column": null,
            "grid_gap": null,
            "grid_row": null,
            "grid_template_areas": null,
            "grid_template_columns": null,
            "grid_template_rows": null,
            "height": null,
            "justify_content": null,
            "justify_items": null,
            "left": null,
            "margin": null,
            "max_height": null,
            "max_width": null,
            "min_height": null,
            "min_width": null,
            "object_fit": null,
            "object_position": null,
            "order": null,
            "overflow": null,
            "overflow_x": null,
            "overflow_y": null,
            "padding": null,
            "right": null,
            "top": null,
            "visibility": null,
            "width": null
          }
        },
        "019a00156e0a499a985d3c98754b9f4f": {
          "model_module": "@jupyter-widgets/controls",
          "model_name": "ProgressStyleModel",
          "model_module_version": "1.5.0",
          "state": {
            "_model_module": "@jupyter-widgets/controls",
            "_model_module_version": "1.5.0",
            "_model_name": "ProgressStyleModel",
            "_view_count": null,
            "_view_module": "@jupyter-widgets/base",
            "_view_module_version": "1.2.0",
            "_view_name": "StyleView",
            "bar_color": null,
            "description_width": ""
          }
        },
        "529a94b10eca49d6a77af43d337886f3": {
          "model_module": "@jupyter-widgets/base",
          "model_name": "LayoutModel",
          "model_module_version": "1.2.0",
          "state": {
            "_model_module": "@jupyter-widgets/base",
            "_model_module_version": "1.2.0",
            "_model_name": "LayoutModel",
            "_view_count": null,
            "_view_module": "@jupyter-widgets/base",
            "_view_module_version": "1.2.0",
            "_view_name": "LayoutView",
            "align_content": null,
            "align_items": null,
            "align_self": null,
            "border": null,
            "bottom": null,
            "display": null,
            "flex": null,
            "flex_flow": null,
            "grid_area": null,
            "grid_auto_columns": null,
            "grid_auto_flow": null,
            "grid_auto_rows": null,
            "grid_column": null,
            "grid_gap": null,
            "grid_row": null,
            "grid_template_areas": null,
            "grid_template_columns": null,
            "grid_template_rows": null,
            "height": null,
            "justify_content": null,
            "justify_items": null,
            "left": null,
            "margin": null,
            "max_height": null,
            "max_width": null,
            "min_height": null,
            "min_width": null,
            "object_fit": null,
            "object_position": null,
            "order": null,
            "overflow": null,
            "overflow_x": null,
            "overflow_y": null,
            "padding": null,
            "right": null,
            "top": null,
            "visibility": null,
            "width": null
          }
        },
        "a0148e0ba53545248be31a790e735834": {
          "model_module": "@jupyter-widgets/controls",
          "model_name": "DescriptionStyleModel",
          "model_module_version": "1.5.0",
          "state": {
            "_model_module": "@jupyter-widgets/controls",
            "_model_module_version": "1.5.0",
            "_model_name": "DescriptionStyleModel",
            "_view_count": null,
            "_view_module": "@jupyter-widgets/base",
            "_view_module_version": "1.2.0",
            "_view_name": "StyleView",
            "description_width": ""
          }
        }
      }
    }
  },
  "cells": [
    {
      "cell_type": "markdown",
      "metadata": {
        "id": "view-in-github",
        "colab_type": "text"
      },
      "source": [
        "<a href=\"https://colab.research.google.com/github/VIOLDAVE/Massive-Algorithm/blob/main/Market.ipynb\" target=\"_parent\"><img src=\"https://colab.research.google.com/assets/colab-badge.svg\" alt=\"Open In Colab\"/></a>"
      ]
    },
    {
      "cell_type": "code",
      "execution_count": null,
      "metadata": {
        "colab": {
          "base_uri": "https://localhost:8080/"
        },
        "id": "jYejeyVBJKok",
        "outputId": "70107e6c-887e-4bad-8b29-0dfca3ecb5bf"
      },
      "outputs": [
        {
          "output_type": "stream",
          "name": "stdout",
          "text": [
            "Requirement already satisfied: polars in /usr/local/lib/python3.11/dist-packages (1.21.0)\n",
            "Collecting pyfpgrowth\n",
            "  Downloading pyfpgrowth-1.0.tar.gz (1.6 MB)\n",
            "\u001b[2K     \u001b[90m━━━━━━━━━━━━━━━━━━━━━━━━━━━━━━━━━━━━━━━━\u001b[0m \u001b[32m1.6/1.6 MB\u001b[0m \u001b[31m17.9 MB/s\u001b[0m eta \u001b[36m0:00:00\u001b[0m\n",
            "\u001b[?25h  Preparing metadata (setup.py) ... \u001b[?25l\u001b[?25hdone\n",
            "Requirement already satisfied: mlxtend in /usr/local/lib/python3.11/dist-packages (0.23.4)\n",
            "Requirement already satisfied: spacy in /usr/local/lib/python3.11/dist-packages (3.8.7)\n",
            "Collecting datasketch\n",
            "  Downloading datasketch-1.6.5-py3-none-any.whl.metadata (5.8 kB)\n",
            "Collecting pyvis\n",
            "  Downloading pyvis-0.3.2-py3-none-any.whl.metadata (1.7 kB)\n",
            "Requirement already satisfied: scipy>=1.2.1 in /usr/local/lib/python3.11/dist-packages (from mlxtend) (1.15.3)\n",
            "Requirement already satisfied: numpy>=1.16.2 in /usr/local/lib/python3.11/dist-packages (from mlxtend) (2.0.2)\n",
            "Requirement already satisfied: pandas>=0.24.2 in /usr/local/lib/python3.11/dist-packages (from mlxtend) (2.2.2)\n",
            "Requirement already satisfied: scikit-learn>=1.3.1 in /usr/local/lib/python3.11/dist-packages (from mlxtend) (1.6.1)\n",
            "Requirement already satisfied: matplotlib>=3.0.0 in /usr/local/lib/python3.11/dist-packages (from mlxtend) (3.10.0)\n",
            "Requirement already satisfied: joblib>=0.13.2 in /usr/local/lib/python3.11/dist-packages (from mlxtend) (1.5.1)\n",
            "Requirement already satisfied: spacy-legacy<3.1.0,>=3.0.11 in /usr/local/lib/python3.11/dist-packages (from spacy) (3.0.12)\n",
            "Requirement already satisfied: spacy-loggers<2.0.0,>=1.0.0 in /usr/local/lib/python3.11/dist-packages (from spacy) (1.0.5)\n",
            "Requirement already satisfied: murmurhash<1.1.0,>=0.28.0 in /usr/local/lib/python3.11/dist-packages (from spacy) (1.0.13)\n",
            "Requirement already satisfied: cymem<2.1.0,>=2.0.2 in /usr/local/lib/python3.11/dist-packages (from spacy) (2.0.11)\n",
            "Requirement already satisfied: preshed<3.1.0,>=3.0.2 in /usr/local/lib/python3.11/dist-packages (from spacy) (3.0.10)\n",
            "Requirement already satisfied: thinc<8.4.0,>=8.3.4 in /usr/local/lib/python3.11/dist-packages (from spacy) (8.3.6)\n",
            "Requirement already satisfied: wasabi<1.2.0,>=0.9.1 in /usr/local/lib/python3.11/dist-packages (from spacy) (1.1.3)\n",
            "Requirement already satisfied: srsly<3.0.0,>=2.4.3 in /usr/local/lib/python3.11/dist-packages (from spacy) (2.5.1)\n",
            "Requirement already satisfied: catalogue<2.1.0,>=2.0.6 in /usr/local/lib/python3.11/dist-packages (from spacy) (2.0.10)\n",
            "Requirement already satisfied: weasel<0.5.0,>=0.1.0 in /usr/local/lib/python3.11/dist-packages (from spacy) (0.4.1)\n",
            "Requirement already satisfied: typer<1.0.0,>=0.3.0 in /usr/local/lib/python3.11/dist-packages (from spacy) (0.16.0)\n",
            "Requirement already satisfied: tqdm<5.0.0,>=4.38.0 in /usr/local/lib/python3.11/dist-packages (from spacy) (4.67.1)\n",
            "Requirement already satisfied: requests<3.0.0,>=2.13.0 in /usr/local/lib/python3.11/dist-packages (from spacy) (2.32.3)\n",
            "Requirement already satisfied: pydantic!=1.8,!=1.8.1,<3.0.0,>=1.7.4 in /usr/local/lib/python3.11/dist-packages (from spacy) (2.11.7)\n",
            "Requirement already satisfied: jinja2 in /usr/local/lib/python3.11/dist-packages (from spacy) (3.1.6)\n",
            "Requirement already satisfied: setuptools in /usr/local/lib/python3.11/dist-packages (from spacy) (75.2.0)\n",
            "Requirement already satisfied: packaging>=20.0 in /usr/local/lib/python3.11/dist-packages (from spacy) (24.2)\n",
            "Requirement already satisfied: langcodes<4.0.0,>=3.2.0 in /usr/local/lib/python3.11/dist-packages (from spacy) (3.5.0)\n",
            "Requirement already satisfied: ipython>=5.3.0 in /usr/local/lib/python3.11/dist-packages (from pyvis) (7.34.0)\n",
            "Requirement already satisfied: jsonpickle>=1.4.1 in /usr/local/lib/python3.11/dist-packages (from pyvis) (4.1.1)\n",
            "Requirement already satisfied: networkx>=1.11 in /usr/local/lib/python3.11/dist-packages (from pyvis) (3.5)\n",
            "Collecting jedi>=0.16 (from ipython>=5.3.0->pyvis)\n",
            "  Downloading jedi-0.19.2-py2.py3-none-any.whl.metadata (22 kB)\n",
            "Requirement already satisfied: decorator in /usr/local/lib/python3.11/dist-packages (from ipython>=5.3.0->pyvis) (4.4.2)\n",
            "Requirement already satisfied: pickleshare in /usr/local/lib/python3.11/dist-packages (from ipython>=5.3.0->pyvis) (0.7.5)\n",
            "Requirement already satisfied: traitlets>=4.2 in /usr/local/lib/python3.11/dist-packages (from ipython>=5.3.0->pyvis) (5.7.1)\n",
            "Requirement already satisfied: prompt-toolkit!=3.0.0,!=3.0.1,<3.1.0,>=2.0.0 in /usr/local/lib/python3.11/dist-packages (from ipython>=5.3.0->pyvis) (3.0.51)\n",
            "Requirement already satisfied: pygments in /usr/local/lib/python3.11/dist-packages (from ipython>=5.3.0->pyvis) (2.19.2)\n",
            "Requirement already satisfied: backcall in /usr/local/lib/python3.11/dist-packages (from ipython>=5.3.0->pyvis) (0.2.0)\n",
            "Requirement already satisfied: matplotlib-inline in /usr/local/lib/python3.11/dist-packages (from ipython>=5.3.0->pyvis) (0.1.7)\n",
            "Requirement already satisfied: pexpect>4.3 in /usr/local/lib/python3.11/dist-packages (from ipython>=5.3.0->pyvis) (4.9.0)\n",
            "Requirement already satisfied: MarkupSafe>=2.0 in /usr/local/lib/python3.11/dist-packages (from jinja2->spacy) (3.0.2)\n",
            "Requirement already satisfied: language-data>=1.2 in /usr/local/lib/python3.11/dist-packages (from langcodes<4.0.0,>=3.2.0->spacy) (1.3.0)\n",
            "Requirement already satisfied: contourpy>=1.0.1 in /usr/local/lib/python3.11/dist-packages (from matplotlib>=3.0.0->mlxtend) (1.3.2)\n",
            "Requirement already satisfied: cycler>=0.10 in /usr/local/lib/python3.11/dist-packages (from matplotlib>=3.0.0->mlxtend) (0.12.1)\n",
            "Requirement already satisfied: fonttools>=4.22.0 in /usr/local/lib/python3.11/dist-packages (from matplotlib>=3.0.0->mlxtend) (4.58.4)\n",
            "Requirement already satisfied: kiwisolver>=1.3.1 in /usr/local/lib/python3.11/dist-packages (from matplotlib>=3.0.0->mlxtend) (1.4.8)\n",
            "Requirement already satisfied: pillow>=8 in /usr/local/lib/python3.11/dist-packages (from matplotlib>=3.0.0->mlxtend) (11.2.1)\n",
            "Requirement already satisfied: pyparsing>=2.3.1 in /usr/local/lib/python3.11/dist-packages (from matplotlib>=3.0.0->mlxtend) (3.2.3)\n",
            "Requirement already satisfied: python-dateutil>=2.7 in /usr/local/lib/python3.11/dist-packages (from matplotlib>=3.0.0->mlxtend) (2.9.0.post0)\n",
            "Requirement already satisfied: pytz>=2020.1 in /usr/local/lib/python3.11/dist-packages (from pandas>=0.24.2->mlxtend) (2025.2)\n",
            "Requirement already satisfied: tzdata>=2022.7 in /usr/local/lib/python3.11/dist-packages (from pandas>=0.24.2->mlxtend) (2025.2)\n",
            "Requirement already satisfied: annotated-types>=0.6.0 in /usr/local/lib/python3.11/dist-packages (from pydantic!=1.8,!=1.8.1,<3.0.0,>=1.7.4->spacy) (0.7.0)\n",
            "Requirement already satisfied: pydantic-core==2.33.2 in /usr/local/lib/python3.11/dist-packages (from pydantic!=1.8,!=1.8.1,<3.0.0,>=1.7.4->spacy) (2.33.2)\n",
            "Requirement already satisfied: typing-extensions>=4.12.2 in /usr/local/lib/python3.11/dist-packages (from pydantic!=1.8,!=1.8.1,<3.0.0,>=1.7.4->spacy) (4.14.0)\n",
            "Requirement already satisfied: typing-inspection>=0.4.0 in /usr/local/lib/python3.11/dist-packages (from pydantic!=1.8,!=1.8.1,<3.0.0,>=1.7.4->spacy) (0.4.1)\n",
            "Requirement already satisfied: charset-normalizer<4,>=2 in /usr/local/lib/python3.11/dist-packages (from requests<3.0.0,>=2.13.0->spacy) (3.4.2)\n",
            "Requirement already satisfied: idna<4,>=2.5 in /usr/local/lib/python3.11/dist-packages (from requests<3.0.0,>=2.13.0->spacy) (3.10)\n",
            "Requirement already satisfied: urllib3<3,>=1.21.1 in /usr/local/lib/python3.11/dist-packages (from requests<3.0.0,>=2.13.0->spacy) (2.4.0)\n",
            "Requirement already satisfied: certifi>=2017.4.17 in /usr/local/lib/python3.11/dist-packages (from requests<3.0.0,>=2.13.0->spacy) (2025.6.15)\n",
            "Requirement already satisfied: threadpoolctl>=3.1.0 in /usr/local/lib/python3.11/dist-packages (from scikit-learn>=1.3.1->mlxtend) (3.6.0)\n",
            "Requirement already satisfied: blis<1.4.0,>=1.3.0 in /usr/local/lib/python3.11/dist-packages (from thinc<8.4.0,>=8.3.4->spacy) (1.3.0)\n",
            "Requirement already satisfied: confection<1.0.0,>=0.0.1 in /usr/local/lib/python3.11/dist-packages (from thinc<8.4.0,>=8.3.4->spacy) (0.1.5)\n",
            "Requirement already satisfied: click>=8.0.0 in /usr/local/lib/python3.11/dist-packages (from typer<1.0.0,>=0.3.0->spacy) (8.2.1)\n",
            "Requirement already satisfied: shellingham>=1.3.0 in /usr/local/lib/python3.11/dist-packages (from typer<1.0.0,>=0.3.0->spacy) (1.5.4)\n",
            "Requirement already satisfied: rich>=10.11.0 in /usr/local/lib/python3.11/dist-packages (from typer<1.0.0,>=0.3.0->spacy) (13.9.4)\n",
            "Requirement already satisfied: cloudpathlib<1.0.0,>=0.7.0 in /usr/local/lib/python3.11/dist-packages (from weasel<0.5.0,>=0.1.0->spacy) (0.21.1)\n",
            "Requirement already satisfied: smart-open<8.0.0,>=5.2.1 in /usr/local/lib/python3.11/dist-packages (from weasel<0.5.0,>=0.1.0->spacy) (7.1.0)\n",
            "Requirement already satisfied: parso<0.9.0,>=0.8.4 in /usr/local/lib/python3.11/dist-packages (from jedi>=0.16->ipython>=5.3.0->pyvis) (0.8.4)\n",
            "Requirement already satisfied: marisa-trie>=1.1.0 in /usr/local/lib/python3.11/dist-packages (from language-data>=1.2->langcodes<4.0.0,>=3.2.0->spacy) (1.2.1)\n",
            "Requirement already satisfied: ptyprocess>=0.5 in /usr/local/lib/python3.11/dist-packages (from pexpect>4.3->ipython>=5.3.0->pyvis) (0.7.0)\n",
            "Requirement already satisfied: wcwidth in /usr/local/lib/python3.11/dist-packages (from prompt-toolkit!=3.0.0,!=3.0.1,<3.1.0,>=2.0.0->ipython>=5.3.0->pyvis) (0.2.13)\n",
            "Requirement already satisfied: six>=1.5 in /usr/local/lib/python3.11/dist-packages (from python-dateutil>=2.7->matplotlib>=3.0.0->mlxtend) (1.17.0)\n",
            "Requirement already satisfied: markdown-it-py>=2.2.0 in /usr/local/lib/python3.11/dist-packages (from rich>=10.11.0->typer<1.0.0,>=0.3.0->spacy) (3.0.0)\n",
            "Requirement already satisfied: wrapt in /usr/local/lib/python3.11/dist-packages (from smart-open<8.0.0,>=5.2.1->weasel<0.5.0,>=0.1.0->spacy) (1.17.2)\n",
            "Requirement already satisfied: mdurl~=0.1 in /usr/local/lib/python3.11/dist-packages (from markdown-it-py>=2.2.0->rich>=10.11.0->typer<1.0.0,>=0.3.0->spacy) (0.1.2)\n",
            "Downloading datasketch-1.6.5-py3-none-any.whl (89 kB)\n",
            "\u001b[2K   \u001b[90m━━━━━━━━━━━━━━━━━━━━━━━━━━━━━━━━━━━━━━━━\u001b[0m \u001b[32m89.2/89.2 kB\u001b[0m \u001b[31m6.9 MB/s\u001b[0m eta \u001b[36m0:00:00\u001b[0m\n",
            "\u001b[?25hDownloading pyvis-0.3.2-py3-none-any.whl (756 kB)\n",
            "\u001b[2K   \u001b[90m━━━━━━━━━━━━━━━━━━━━━━━━━━━━━━━━━━━━━━━━\u001b[0m \u001b[32m756.0/756.0 kB\u001b[0m \u001b[31m44.4 MB/s\u001b[0m eta \u001b[36m0:00:00\u001b[0m\n",
            "\u001b[?25hDownloading jedi-0.19.2-py2.py3-none-any.whl (1.6 MB)\n",
            "\u001b[2K   \u001b[90m━━━━━━━━━━━━━━━━━━━━━━━━━━━━━━━━━━━━━━━━\u001b[0m \u001b[32m1.6/1.6 MB\u001b[0m \u001b[31m65.2 MB/s\u001b[0m eta \u001b[36m0:00:00\u001b[0m\n",
            "\u001b[?25hBuilding wheels for collected packages: pyfpgrowth\n",
            "  Building wheel for pyfpgrowth (setup.py) ... \u001b[?25l\u001b[?25hdone\n",
            "  Created wheel for pyfpgrowth: filename=pyfpgrowth-1.0-py2.py3-none-any.whl size=5490 sha256=e9a0c9d9d201220e68c663635850bd281b7205b1ee55b07f2e17d94fb882efe8\n",
            "  Stored in directory: /root/.cache/pip/wheels/f2/cf/03/d025f5c38b5e9cfbbe5e68ec539c2bf8dee7a9f8ee14629e2d\n",
            "Successfully built pyfpgrowth\n",
            "Installing collected packages: pyfpgrowth, jedi, datasketch, pyvis\n",
            "Successfully installed datasketch-1.6.5 jedi-0.19.2 pyfpgrowth-1.0 pyvis-0.3.2\n"
          ]
        }
      ],
      "source": [
        "!pip install polars pyfpgrowth mlxtend spacy datasketch pyvis #rapids-cuml"
      ]
    },
    {
      "cell_type": "code",
      "source": [
        "!pip install pyfpgrowth==1.0"
      ],
      "metadata": {
        "colab": {
          "base_uri": "https://localhost:8080/"
        },
        "id": "NM6VgaMibww2",
        "outputId": "1d1a879a-ec0e-4ffa-d764-f81fdfb04c40"
      },
      "execution_count": null,
      "outputs": [
        {
          "output_type": "stream",
          "name": "stdout",
          "text": [
            "Requirement already satisfied: pyfpgrowth==1.0 in /usr/local/lib/python3.11/dist-packages (1.0)\n"
          ]
        }
      ]
    },
    {
      "cell_type": "code",
      "source": [
        "\n",
        "import os\n",
        "import polars as pl\n",
        "from pathlib import Path"
      ],
      "metadata": {
        "id": "OI8po453Jzmt"
      },
      "execution_count": null,
      "outputs": []
    },
    {
      "cell_type": "code",
      "source": [
        "# Kaggle Authentication\n",
        "os.environ[\"KAGGLE_USERNAME\"] = \"aworviola2\"\n",
        "os.environ[\"KAGGLE_KEY\"] = \"b10218d275dad1e914008b49da4f407d\"\n",
        "!mkdir -p ~/.kaggle\n",
        "!echo '{\"username\":\"aworviola2\",\"key\":\"b10218d275dad1e914008b49da4f407d\"}' > ~/.kaggle/kaggle.json\n",
        "!chmod 600 ~/.kaggle/kaggle.json  # Critical permission setting\n"
      ],
      "metadata": {
        "id": "VLQsj37KKiQO"
      },
      "execution_count": null,
      "outputs": []
    },
    {
      "cell_type": "code",
      "source": [
        "dataset = \"arashnic/book-recommendation-dataset\"\n",
        "data_dir = Path(\"data\")\n",
        "data_dir.mkdir(exist_ok=True)"
      ],
      "metadata": {
        "id": "utoR0dUiOzLg"
      },
      "execution_count": null,
      "outputs": []
    },
    {
      "cell_type": "markdown",
      "source": [
        "Data downloading"
      ],
      "metadata": {
        "id": "9buZHHi-Yr-B"
      }
    },
    {
      "cell_type": "code",
      "source": [
        "\n",
        "!kaggle datasets download -d mohamedbakhet/amazon-books-reviews -p {data_dir} --unzip\n",
        "df = pl.scan_csv(data_dir / \"Books_rating.csv\").collect()"
      ],
      "metadata": {
        "id": "zZ23bdyGQmgD",
        "colab": {
          "base_uri": "https://localhost:8080/"
        },
        "outputId": "d9d7a796-eebe-4aba-d349-3def79fb2b54"
      },
      "execution_count": null,
      "outputs": [
        {
          "output_type": "stream",
          "name": "stdout",
          "text": [
            "Dataset URL: https://www.kaggle.com/datasets/mohamedbakhet/amazon-books-reviews\n",
            "License(s): CC0-1.0\n",
            "Downloading amazon-books-reviews.zip to data\n",
            " 97% 1.03G/1.06G [00:17<00:00, 86.5MB/s]\n",
            "100% 1.06G/1.06G [00:17<00:00, 64.8MB/s]\n"
          ]
        }
      ]
    },
    {
      "cell_type": "markdown",
      "source": [
        "Explorartory data analysis"
      ],
      "metadata": {
        "id": "AlPMQYWPk4V7"
      }
    },
    {
      "cell_type": "code",
      "source": [
        "display(df.head())"
      ],
      "metadata": {
        "colab": {
          "base_uri": "https://localhost:8080/",
          "height": 535
        },
        "id": "gs7T-tURgBxg",
        "outputId": "5d72a6fb-9190-418f-b65a-256ef32cc628"
      },
      "execution_count": null,
      "outputs": [
        {
          "output_type": "display_data",
          "data": {
            "text/plain": [
              "shape: (5, 10)\n",
              "┌────────────┬────────────┬───────┬────────────┬───┬───────────┬───────────┬───────────┬───────────┐\n",
              "│ Id         ┆ Title      ┆ Price ┆ User_id    ┆ … ┆ review/sc ┆ review/ti ┆ review/su ┆ review/te │\n",
              "│ ---        ┆ ---        ┆ ---   ┆ ---        ┆   ┆ ore       ┆ me        ┆ mmary     ┆ xt        │\n",
              "│ str        ┆ str        ┆ f64   ┆ str        ┆   ┆ ---       ┆ ---       ┆ ---       ┆ ---       │\n",
              "│            ┆            ┆       ┆            ┆   ┆ f64       ┆ i64       ┆ str       ┆ str       │\n",
              "╞════════════╪════════════╪═══════╪════════════╪═══╪═══════════╪═══════════╪═══════════╪═══════════╡\n",
              "│ 1882931173 ┆ Its Only   ┆ null  ┆ AVCGYZL8FQ ┆ … ┆ 4.0       ┆ 940636800 ┆ Nice coll ┆ This is   │\n",
              "│            ┆ Art If Its ┆       ┆ QTD        ┆   ┆           ┆           ┆ ection of ┆ only for  │\n",
              "│            ┆ Well Hung! ┆       ┆            ┆   ┆           ┆           ┆ Julie     ┆ Julie     │\n",
              "│            ┆            ┆       ┆            ┆   ┆           ┆           ┆ Strai…    ┆ Strain …  │\n",
              "│ 0826414346 ┆ Dr. Seuss: ┆ null  ┆ A30TK6U7DN ┆ … ┆ 5.0       ┆ 109572480 ┆ Really    ┆ I don't   │\n",
              "│            ┆ American   ┆       ┆ S82R       ┆   ┆           ┆ 0         ┆ Enjoyed   ┆ care much │\n",
              "│            ┆ Icon       ┆       ┆            ┆   ┆           ┆           ┆ It        ┆ for Dr.   │\n",
              "│            ┆            ┆       ┆            ┆   ┆           ┆           ┆           ┆ Seus…     │\n",
              "│ 0826414346 ┆ Dr. Seuss: ┆ null  ┆ A3UH4UZ4RS ┆ … ┆ 5.0       ┆ 107879040 ┆ Essential ┆ If people │\n",
              "│            ┆ American   ┆       ┆ VO82       ┆   ┆           ┆ 0         ┆ for every ┆ become    │\n",
              "│            ┆ Icon       ┆       ┆            ┆   ┆           ┆           ┆ personal  ┆ the books │\n",
              "│            ┆            ┆       ┆            ┆   ┆           ┆           ┆ a…        ┆ the…      │\n",
              "│ 0826414346 ┆ Dr. Seuss: ┆ null  ┆ A2MVUWT453 ┆ … ┆ 4.0       ┆ 109071360 ┆ Phlip Nel ┆ Theodore  │\n",
              "│            ┆ American   ┆       ┆ QH61       ┆   ┆           ┆ 0         ┆ gives     ┆ Seuss     │\n",
              "│            ┆ Icon       ┆       ┆            ┆   ┆           ┆           ┆ silly     ┆ Geisel    │\n",
              "│            ┆            ┆       ┆            ┆   ┆           ┆           ┆ Seuss a … ┆ (1904-19… │\n",
              "│ 0826414346 ┆ Dr. Seuss: ┆ null  ┆ A22X4XUPKF ┆ … ┆ 4.0       ┆ 110799360 ┆ Good      ┆ Philip    │\n",
              "│            ┆ American   ┆       ┆ 66MR       ┆   ┆           ┆ 0         ┆ academic  ┆ Nel - Dr. │\n",
              "│            ┆ Icon       ┆       ┆            ┆   ┆           ┆           ┆ overview  ┆ Seuss:    │\n",
              "│            ┆            ┆       ┆            ┆   ┆           ┆           ┆           ┆ Americ…   │\n",
              "└────────────┴────────────┴───────┴────────────┴───┴───────────┴───────────┴───────────┴───────────┘"
            ],
            "text/html": [
              "<div><style>\n",
              ".dataframe > thead > tr,\n",
              ".dataframe > tbody > tr {\n",
              "  text-align: right;\n",
              "  white-space: pre-wrap;\n",
              "}\n",
              "</style>\n",
              "<small>shape: (5, 10)</small><table border=\"1\" class=\"dataframe\"><thead><tr><th>Id</th><th>Title</th><th>Price</th><th>User_id</th><th>profileName</th><th>review/helpfulness</th><th>review/score</th><th>review/time</th><th>review/summary</th><th>review/text</th></tr><tr><td>str</td><td>str</td><td>f64</td><td>str</td><td>str</td><td>str</td><td>f64</td><td>i64</td><td>str</td><td>str</td></tr></thead><tbody><tr><td>&quot;1882931173&quot;</td><td>&quot;Its Only Art If Its Well Hung!&quot;</td><td>null</td><td>&quot;AVCGYZL8FQQTD&quot;</td><td>&quot;Jim of Oz &quot;jim-of-oz&quot;&quot;</td><td>&quot;7/7&quot;</td><td>4.0</td><td>940636800</td><td>&quot;Nice collection of Julie Strai…</td><td>&quot;This is only for Julie Strain …</td></tr><tr><td>&quot;0826414346&quot;</td><td>&quot;Dr. Seuss: American Icon&quot;</td><td>null</td><td>&quot;A30TK6U7DNS82R&quot;</td><td>&quot;Kevin Killian&quot;</td><td>&quot;10/10&quot;</td><td>5.0</td><td>1095724800</td><td>&quot;Really Enjoyed It&quot;</td><td>&quot;I don&#x27;t care much for Dr. Seus…</td></tr><tr><td>&quot;0826414346&quot;</td><td>&quot;Dr. Seuss: American Icon&quot;</td><td>null</td><td>&quot;A3UH4UZ4RSVO82&quot;</td><td>&quot;John Granger&quot;</td><td>&quot;10/11&quot;</td><td>5.0</td><td>1078790400</td><td>&quot;Essential for every personal a…</td><td>&quot;If people become the books the…</td></tr><tr><td>&quot;0826414346&quot;</td><td>&quot;Dr. Seuss: American Icon&quot;</td><td>null</td><td>&quot;A2MVUWT453QH61&quot;</td><td>&quot;Roy E. Perry &quot;amateur philosop…</td><td>&quot;7/7&quot;</td><td>4.0</td><td>1090713600</td><td>&quot;Phlip Nel gives silly Seuss a …</td><td>&quot;Theodore Seuss Geisel (1904-19…</td></tr><tr><td>&quot;0826414346&quot;</td><td>&quot;Dr. Seuss: American Icon&quot;</td><td>null</td><td>&quot;A22X4XUPKF66MR&quot;</td><td>&quot;D. H. Richards &quot;ninthwavestore…</td><td>&quot;3/3&quot;</td><td>4.0</td><td>1107993600</td><td>&quot;Good academic overview&quot;</td><td>&quot;Philip Nel - Dr. Seuss: Americ…</td></tr></tbody></table></div>"
            ]
          },
          "metadata": {}
        }
      ]
    },
    {
      "cell_type": "code",
      "source": [
        "display(df.describe())"
      ],
      "metadata": {
        "colab": {
          "base_uri": "https://localhost:8080/",
          "height": 522
        },
        "id": "XE0wWtiJnwJU",
        "outputId": "3afb0fa7-fab4-490f-a2ee-f83e846db578"
      },
      "execution_count": null,
      "outputs": [
        {
          "output_type": "display_data",
          "data": {
            "text/plain": [
              "shape: (9, 11)\n",
              "┌───────────┬───────────┬───────────┬───────────┬───┬───────────┬───────────┬───────────┬──────────┐\n",
              "│ statistic ┆ Id        ┆ Title     ┆ Price     ┆ … ┆ review/sc ┆ review/ti ┆ review/su ┆ review/t │\n",
              "│ ---       ┆ ---       ┆ ---       ┆ ---       ┆   ┆ ore       ┆ me        ┆ mmary     ┆ ext      │\n",
              "│ str       ┆ str       ┆ str       ┆ f64       ┆   ┆ ---       ┆ ---       ┆ ---       ┆ ---      │\n",
              "│           ┆           ┆           ┆           ┆   ┆ f64       ┆ f64       ┆ str       ┆ str      │\n",
              "╞═══════════╪═══════════╪═══════════╪═══════════╪═══╪═══════════╪═══════════╪═══════════╪══════════╡\n",
              "│ count     ┆ 3000000   ┆ 2999792   ┆ 481171.0  ┆ … ┆ 3e6       ┆ 3e6       ┆ 2999962   ┆ 2999992  │\n",
              "│ null_coun ┆ 0         ┆ 208       ┆ 2.518829e ┆ … ┆ 0.0       ┆ 0.0       ┆ 38        ┆ 8        │\n",
              "│ t         ┆           ┆           ┆ 6         ┆   ┆           ┆           ┆           ┆          │\n",
              "│ mean      ┆ null      ┆ null      ┆ 21.762656 ┆ … ┆ 4.215289  ┆ 1.1323e9  ┆ null      ┆ null     │\n",
              "│ std       ┆ null      ┆ null      ┆ 26.206541 ┆ … ┆ 1.203054  ┆ 1.4932e8  ┆ null      ┆ null     │\n",
              "│ min       ┆ 000104760 ┆ \" Film    ┆ 1.0       ┆ … ┆ 1.0       ┆ -1.0      ┆ !         ┆ \u0011The Tao │\n",
              "│           ┆ 4         ┆ technique ┆           ┆   ┆           ┆           ┆           ┆ of       │\n",
              "│           ┆           ┆ , \" and,  ┆           ┆   ┆           ┆           ┆           ┆ Muhammad │\n",
              "│           ┆           ┆ \" Fil…    ┆           ┆   ┆           ┆           ┆           ┆ Ali\u0012 is  │\n",
              "│           ┆           ┆           ┆           ┆   ┆           ┆           ┆           ┆ t…       │\n",
              "│ 25%       ┆ null      ┆ null      ┆ 10.78     ┆ … ┆ 4.0       ┆ 9.999072e ┆ null      ┆ null     │\n",
              "│           ┆           ┆           ┆           ┆   ┆           ┆ 8         ┆           ┆          │\n",
              "│ 50%       ┆ null      ┆ null      ┆ 14.93     ┆ … ┆ 5.0       ┆ 1.1283e9  ┆ null      ┆ null     │\n",
              "│ 75%       ┆ null      ┆ null      ┆ 23.95     ┆ … ┆ 5.0       ┆ 1.2691e9  ┆ null      ┆ null     │\n",
              "│ max       ┆ B0064P287 ┆ you can   ┆ 995.0     ┆ … ┆ 5.0       ┆ 1.3624e9  ┆ ~~~~~~~~~ ┆ ~~~~~~~~ │\n",
              "│           ┆ I         ┆ do        ┆           ┆   ┆           ┆           ┆ ~~~~~~~~~ ┆ ~~~~~~~~ │\n",
              "│           ┆           ┆ anything  ┆           ┆   ┆           ┆           ┆ ~~~~~~~~  ┆ ~~~~~~~~ │\n",
              "│           ┆           ┆ with      ┆           ┆   ┆           ┆           ┆           ┆ ~~~~~~…  │\n",
              "│           ┆           ┆ crepe…    ┆           ┆   ┆           ┆           ┆           ┆          │\n",
              "└───────────┴───────────┴───────────┴───────────┴───┴───────────┴───────────┴───────────┴──────────┘"
            ],
            "text/html": [
              "<div><style>\n",
              ".dataframe > thead > tr,\n",
              ".dataframe > tbody > tr {\n",
              "  text-align: right;\n",
              "  white-space: pre-wrap;\n",
              "}\n",
              "</style>\n",
              "<small>shape: (9, 11)</small><table border=\"1\" class=\"dataframe\"><thead><tr><th>statistic</th><th>Id</th><th>Title</th><th>Price</th><th>User_id</th><th>profileName</th><th>review/helpfulness</th><th>review/score</th><th>review/time</th><th>review/summary</th><th>review/text</th></tr><tr><td>str</td><td>str</td><td>str</td><td>f64</td><td>str</td><td>str</td><td>str</td><td>f64</td><td>f64</td><td>str</td><td>str</td></tr></thead><tbody><tr><td>&quot;count&quot;</td><td>&quot;3000000&quot;</td><td>&quot;2999792&quot;</td><td>481171.0</td><td>&quot;2438213&quot;</td><td>&quot;2438114&quot;</td><td>&quot;3000000&quot;</td><td>3e6</td><td>3e6</td><td>&quot;2999962&quot;</td><td>&quot;2999992&quot;</td></tr><tr><td>&quot;null_count&quot;</td><td>&quot;0&quot;</td><td>&quot;208&quot;</td><td>2.518829e6</td><td>&quot;561787&quot;</td><td>&quot;561886&quot;</td><td>&quot;0&quot;</td><td>0.0</td><td>0.0</td><td>&quot;38&quot;</td><td>&quot;8&quot;</td></tr><tr><td>&quot;mean&quot;</td><td>null</td><td>null</td><td>21.762656</td><td>null</td><td>null</td><td>null</td><td>4.215289</td><td>1.1323e9</td><td>null</td><td>null</td></tr><tr><td>&quot;std&quot;</td><td>null</td><td>null</td><td>26.206541</td><td>null</td><td>null</td><td>null</td><td>1.203054</td><td>1.4932e8</td><td>null</td><td>null</td></tr><tr><td>&quot;min&quot;</td><td>&quot;0001047604&quot;</td><td>&quot;&quot; Film technique, &quot; and, &quot; Fil…</td><td>1.0</td><td>&quot;A00109803PZJ91RLT7DPN&quot;</td><td>&quot;\u001a&quot;</td><td>&quot;0/0&quot;</td><td>1.0</td><td>-1.0</td><td>&quot;!&quot;</td><td>&quot;\u0011The Tao of Muhammad Ali\u0012 is t…</td></tr><tr><td>&quot;25%&quot;</td><td>null</td><td>null</td><td>10.78</td><td>null</td><td>null</td><td>null</td><td>4.0</td><td>9.999072e8</td><td>null</td><td>null</td></tr><tr><td>&quot;50%&quot;</td><td>null</td><td>null</td><td>14.93</td><td>null</td><td>null</td><td>null</td><td>5.0</td><td>1.1283e9</td><td>null</td><td>null</td></tr><tr><td>&quot;75%&quot;</td><td>null</td><td>null</td><td>23.95</td><td>null</td><td>null</td><td>null</td><td>5.0</td><td>1.2691e9</td><td>null</td><td>null</td></tr><tr><td>&quot;max&quot;</td><td>&quot;B0064P287I&quot;</td><td>&quot;you can do anything with crepe…</td><td>995.0</td><td>&quot;AZZZZW74AAX75&quot;</td><td>&quot;~~~~~~~&quot;</td><td>&quot;997/1090&quot;</td><td>5.0</td><td>1.3624e9</td><td>&quot;~~~~~~~~~~~~~~~~~~~~~~~~~~&quot;</td><td>&quot;~~~~~~~~~~~~~~~~~~~~~~~~~~~~~~…</td></tr></tbody></table></div>"
            ]
          },
          "metadata": {}
        }
      ]
    },
    {
      "cell_type": "code",
      "source": [
        "import matplotlib.pyplot as plt\n",
        "import seaborn as sns"
      ],
      "metadata": {
        "id": "s7WVzUt4fWY1"
      },
      "execution_count": null,
      "outputs": []
    },
    {
      "cell_type": "code",
      "source": [
        "df.null_count()"
      ],
      "metadata": {
        "colab": {
          "base_uri": "https://localhost:8080/",
          "height": 149
        },
        "id": "7mVLe73wjKPB",
        "outputId": "98a73ca4-6c81-479d-acac-41a3dc592f3d"
      },
      "execution_count": null,
      "outputs": [
        {
          "output_type": "execute_result",
          "data": {
            "text/plain": [
              "shape: (1, 10)\n",
              "┌─────┬───────┬─────────┬─────────┬───┬──────────────┬─────────────┬────────────────┬─────────────┐\n",
              "│ Id  ┆ Title ┆ Price   ┆ User_id ┆ … ┆ review/score ┆ review/time ┆ review/summary ┆ review/text │\n",
              "│ --- ┆ ---   ┆ ---     ┆ ---     ┆   ┆ ---          ┆ ---         ┆ ---            ┆ ---         │\n",
              "│ u32 ┆ u32   ┆ u32     ┆ u32     ┆   ┆ u32          ┆ u32         ┆ u32            ┆ u32         │\n",
              "╞═════╪═══════╪═════════╪═════════╪═══╪══════════════╪═════════════╪════════════════╪═════════════╡\n",
              "│ 0   ┆ 208   ┆ 2518829 ┆ 561787  ┆ … ┆ 0            ┆ 0           ┆ 38             ┆ 8           │\n",
              "└─────┴───────┴─────────┴─────────┴───┴──────────────┴─────────────┴────────────────┴─────────────┘"
            ],
            "text/html": [
              "<div><style>\n",
              ".dataframe > thead > tr,\n",
              ".dataframe > tbody > tr {\n",
              "  text-align: right;\n",
              "  white-space: pre-wrap;\n",
              "}\n",
              "</style>\n",
              "<small>shape: (1, 10)</small><table border=\"1\" class=\"dataframe\"><thead><tr><th>Id</th><th>Title</th><th>Price</th><th>User_id</th><th>profileName</th><th>review/helpfulness</th><th>review/score</th><th>review/time</th><th>review/summary</th><th>review/text</th></tr><tr><td>u32</td><td>u32</td><td>u32</td><td>u32</td><td>u32</td><td>u32</td><td>u32</td><td>u32</td><td>u32</td><td>u32</td></tr></thead><tbody><tr><td>0</td><td>208</td><td>2518829</td><td>561787</td><td>561886</td><td>0</td><td>0</td><td>0</td><td>38</td><td>8</td></tr></tbody></table></div>"
            ]
          },
          "metadata": {},
          "execution_count": 18
        }
      ]
    },
    {
      "cell_type": "code",
      "source": [
        "display(df.is_duplicated().sum())"
      ],
      "metadata": {
        "colab": {
          "base_uri": "https://localhost:8080/",
          "height": 35
        },
        "id": "wKSWvrnhmBFi",
        "outputId": "253e1470-0530-486c-e651-df81416c0d2d"
      },
      "execution_count": null,
      "outputs": [
        {
          "output_type": "display_data",
          "data": {
            "text/plain": [
              "16483"
            ]
          },
          "metadata": {}
        }
      ]
    },
    {
      "cell_type": "code",
      "metadata": {
        "id": "e8f37705"
      },
      "source": [
        "#!pip install ydata-profiling"
      ],
      "execution_count": null,
      "outputs": []
    },
    {
      "cell_type": "code",
      "source": [],
      "metadata": {
        "id": "cdvlYO17Acw5"
      },
      "execution_count": null,
      "outputs": []
    },
    {
      "cell_type": "code",
      "source": [
        "import ydata_profiling as ydp\n",
        "import pandas as pd\n",
        "from ydata_profiling import ProfileReport\n",
        "profile = ProfileReport(df.to_pandas(), title=\"Profiling Report\")\n",
        "profile.to_notebook_iframe()"
      ],
      "metadata": {
        "colab": {
          "base_uri": "https://localhost:8080/",
          "height": 437,
          "referenced_widgets": [
            "30b25d8ebf33492a8066ccdfb9fa218f",
            "780c69afa5fa420faf62356d8d7296e7",
            "952c8c2539e948f2bc6597fe881d04c3",
            "26ee84a30962475f9305c2b2f9f32bc7",
            "426cf024aafb4117b6aef2a05cd70119",
            "b9762a6938024998a91607b70ec8a55b",
            "7dc20e0278ea48c08c4f9d1a86a8debd",
            "7da945b6da6c4f168a6c6064612690cc",
            "019a00156e0a499a985d3c98754b9f4f",
            "529a94b10eca49d6a77af43d337886f3",
            "a0148e0ba53545248be31a790e735834"
          ]
        },
        "id": "71xsmw7x2SKs",
        "outputId": "bcb9fd18-079a-4b58-b2dd-4abeeb58dfe9"
      },
      "execution_count": null,
      "outputs": [
        {
          "output_type": "display_data",
          "data": {
            "text/plain": [
              "<IPython.core.display.HTML object>"
            ],
            "text/html": [
              "\n",
              "            <div>\n",
              "                <ins><a href=\"https://ydata.ai/register\">Upgrade to ydata-sdk</a></ins>\n",
              "                <p>\n",
              "                    Improve your data and profiling with ydata-sdk, featuring data quality scoring, redundancy detection, outlier identification, text validation, and synthetic data generation.\n",
              "                </p>\n",
              "            </div>\n",
              "            "
            ]
          },
          "metadata": {}
        },
        {
          "output_type": "stream",
          "name": "stderr",
          "text": [
            "ERROR:root:Unexpected exception finding object shape\n",
            "Traceback (most recent call last):\n",
            "  File \"/usr/local/lib/python3.11/dist-packages/google/colab/_debugpy_repr.py\", line 54, in get_shape\n",
            "    shape = getattr(obj, 'shape', None)\n",
            "            ^^^^^^^^^^^^^^^^^^^^^^^^^^^\n",
            "  File \"/usr/local/lib/python3.11/dist-packages/polars/dataframe/frame.py\", line 775, in shape\n",
            "    return self._df.shape()\n",
            "           ^^^^^^^^^^^^^^^^\n",
            "RuntimeError: Already mutably borrowed\n"
          ]
        },
        {
          "output_type": "display_data",
          "data": {
            "text/plain": [
              "Summarize dataset:   0%|          | 0/5 [00:00<?, ?it/s]"
            ],
            "application/vnd.jupyter.widget-view+json": {
              "version_major": 2,
              "version_minor": 0,
              "model_id": "30b25d8ebf33492a8066ccdfb9fa218f"
            }
          },
          "metadata": {}
        },
        {
          "output_type": "stream",
          "name": "stderr",
          "text": [
            "\n",
            "  0%|          | 0/10 [00:00<?, ?it/s]\u001b[A\n",
            " 10%|█         | 1/10 [00:23<03:34, 23.80s/it]\u001b[A\n",
            " 20%|██        | 2/10 [00:38<02:26, 18.37s/it]\u001b[A\n",
            " 40%|████      | 4/10 [01:30<02:19, 23.33s/it]\u001b[A\n",
            " 50%|█████     | 5/10 [01:46<01:44, 20.89s/it]\u001b[A\n",
            " 70%|███████   | 7/10 [01:47<00:34, 11.35s/it]\u001b[A\n",
            " 80%|████████  | 8/10 [01:57<00:21, 10.58s/it]\u001b[A"
          ]
        }
      ]
    },
    {
      "cell_type": "code",
      "metadata": {
        "colab": {
          "base_uri": "https://localhost:8080/",
          "height": 430
        },
        "id": "0813e92c",
        "outputId": "54f19745-6fac-4186-94f9-edafe14e4ea4"
      },
      "source": [
        "import matplotlib.pyplot as plt\n",
        "import seaborn as sns\n",
        "\n",
        "plt.figure(figsize=(10, 6))\n",
        "sns.histplot(df['review/score'], bins=5, kde=True)\n",
        "plt.title('Distribution of Review Scores')\n",
        "plt.xlabel('Review Score')\n",
        "plt.ylabel('Frequency')\n",
        "plt.show()"
      ],
      "execution_count": null,
      "outputs": [
        {
          "output_type": "display_data",
          "data": {
            "text/plain": [
              "<Figure size 1000x600 with 1 Axes>"
            ],
            "image/png": "[encoded data removed]"
          },
          "metadata": {}
        }
      ]
    },
    {
      "cell_type": "code",
      "source": [
        "\n",
        "\n",
        "# Top 10 most reviewed books\n",
        "top_books = df.group_by(\"Title\").agg(pl.count().alias(\"review_count\")).sort(\"review_count\", descending=True).head(10)\n",
        "print(top_books)"
      ],
      "metadata": {
        "colab": {
          "base_uri": "https://localhost:8080/"
        },
        "id": "KafTrK_L8hfV",
        "outputId": "fb8a4dd0-306e-4249-f168-d53289f2238d"
      },
      "execution_count": null,
      "outputs": [
        {
          "output_type": "stream",
          "name": "stderr",
          "text": [
            "/tmp/ipython-input-25-930861292.py:2: DeprecationWarning: `pl.count()` is deprecated. Please use `pl.len()` instead.\n",
            "  top_books = df.group_by(\"Title\").agg(pl.count().alias(\"review_count\")).sort(\"review_count\", descending=True).head(10)\n"
          ]
        },
        {
          "output_type": "stream",
          "name": "stdout",
          "text": [
            "shape: (10, 2)\n",
            "┌─────────────────────────────────┬──────────────┐\n",
            "│ Title                           ┆ review_count │\n",
            "│ ---                             ┆ ---          │\n",
            "│ str                             ┆ u32          │\n",
            "╞═════════════════════════════════╪══════════════╡\n",
            "│ The Hobbit                      ┆ 22023        │\n",
            "│ Pride and Prejudice             ┆ 20371        │\n",
            "│ Atlas Shrugged                  ┆ 12513        │\n",
            "│ Wuthering Heights               ┆ 10780        │\n",
            "│ The Giver                       ┆ 7644         │\n",
            "│ Great Expectations              ┆ 7421         │\n",
            "│ Harry Potter and The Sorcerer'… ┆ 6796         │\n",
            "│ Of Mice and Men                 ┆ 6728         │\n",
            "│ Brave New World                 ┆ 6312         │\n",
            "│ Mere Christianity               ┆ 6053         │\n",
            "└─────────────────────────────────┴──────────────┘\n"
          ]
        }
      ]
    },
    {
      "cell_type": "markdown",
      "source": [
        "Average review trend"
      ],
      "metadata": {
        "id": "7R9jJnyF-yN0"
      }
    },
    {
      "cell_type": "code",
      "metadata": {
        "colab": {
          "base_uri": "https://localhost:8080/",
          "height": 627
        },
        "id": "89df6144",
        "outputId": "c2d840a1-09b7-4e3c-f409-eebbb5685944"
      },
      "source": [
        "# Convert review/time to datetime\n",
        "df = df.with_columns(pl.from_epoch(pl.col(\"review/time\")).cast(pl.Datetime).alias(\"review_datetime\"))\n",
        "\n",
        "# Group by month and calculate the average review score\n",
        "monthly_avg_score = df.group_by(pl.col(\"review_datetime\").dt.truncate(\"1mo\")).agg(pl.mean(\"review/score\").alias(\"average_score\")).sort(\"review_datetime\")\n",
        "\n",
        "#  average review score over time plot\n",
        "plt.figure(figsize=(12, 6))\n",
        "plt.plot(monthly_avg_score[\"review_datetime\"], monthly_avg_score[\"average_score\"])\n",
        "plt.title('Average Review Score Over Time')\n",
        "plt.xlabel('Time')\n",
        "plt.ylabel('Average Review Score')\n",
        "plt.xticks(rotation=45)\n",
        "plt.tight_layout()\n",
        "plt.show()"
      ],
      "execution_count": null,
      "outputs": [
        {
          "output_type": "display_data",
          "data": {
            "text/plain": [
              "<Figure size 1200x600 with 1 Axes>"
            ],
            "image/png": "[encoded data removed]"
          },
          "metadata": {}
        }
      ]
    },
    {
      "cell_type": "markdown",
      "source": [
        "Rating distribution"
      ],
      "metadata": {
        "id": "UTfLlHZ1AgME"
      }
    },
    {
      "cell_type": "code",
      "source": [
        "plt.figure(figsize=(10, 6))\n",
        "sns.countplot(x=df[\"review/score\"].to_numpy(),palette=\"viridis\")\n",
        "plt.title(\"Distribution of Review Scores\")\n",
        "plt.xlabel(\"Rating (1-5)\")\n",
        "plt.ylabel('Count')\n",
        "plt.show()\n"
      ],
      "metadata": {
        "colab": {
          "base_uri": "https://localhost:8080/",
          "height": 529
        },
        "id": "4vnrIf-aAsKg",
        "outputId": "4e980228-a92d-4366-b8ab-61d296237bf1"
      },
      "execution_count": null,
      "outputs": [
        {
          "output_type": "stream",
          "name": "stderr",
          "text": [
            "/tmp/ipython-input-27-2852197680.py:2: FutureWarning: \n",
            "\n",
            "Passing `palette` without assigning `hue` is deprecated and will be removed in v0.14.0. Assign the `x` variable to `hue` and set `legend=False` for the same effect.\n",
            "\n",
            "  sns.countplot(x=df[\"review/score\"].to_numpy(),palette=\"viridis\")\n"
          ]
        },
        {
          "output_type": "display_data",
          "data": {
            "text/plain": [
              "<Figure size 1000x600 with 1 Axes>"
            ],
            "image/png": "[encoded data removed]"
          },
          "metadata": {}
        }
      ]
    },
    {
      "cell_type": "markdown",
      "source": [
        "Review length"
      ],
      "metadata": {
        "id": "cIu_bEALB_l_"
      }
    },
    {
      "cell_type": "code",
      "source": [
        "#add review length column\n",
        "df=df.with_columns(\n",
        "    pl.col(\"review/text\").str.len().alias(\"review_length\"))"
      ],
      "metadata": {
        "colab": {
          "base_uri": "https://localhost:8080/",
          "height": 216
        },
        "id": "51CWacWaCEln",
        "outputId": "6c259535-4e8e-4ba1-8331-1450f4fd66b0"
      },
      "execution_count": null,
      "outputs": [
        {
          "output_type": "error",
          "ename": "AttributeError",
          "evalue": "'ExprStringNameSpace' object has no attribute 'len'",
          "traceback": [
            "\u001b[0;31m---------------------------------------------------------------------------\u001b[0m",
            "\u001b[0;31mAttributeError\u001b[0m                            Traceback (most recent call last)",
            "\u001b[0;32m/tmp/ipython-input-29-1776170886.py\u001b[0m in \u001b[0;36m<cell line: 0>\u001b[0;34m()\u001b[0m\n\u001b[1;32m      1\u001b[0m \u001b[0;31m#add review length column\u001b[0m\u001b[0;34m\u001b[0m\u001b[0;34m\u001b[0m\u001b[0m\n\u001b[0;32m----> 2\u001b[0;31m \u001b[0mdf\u001b[0m\u001b[0;34m=\u001b[0m\u001b[0mdf\u001b[0m\u001b[0;34m.\u001b[0m\u001b[0mwith_columns\u001b[0m\u001b[0;34m(\u001b[0m\u001b[0mpl\u001b[0m\u001b[0;34m.\u001b[0m\u001b[0mcol\u001b[0m\u001b[0;34m(\u001b[0m\u001b[0;34m\"review/text\"\u001b[0m\u001b[0;34m)\u001b[0m\u001b[0;34m.\u001b[0m\u001b[0mstr\u001b[0m\u001b[0;34m.\u001b[0m\u001b[0mlen\u001b[0m\u001b[0;34m(\u001b[0m\u001b[0;34m)\u001b[0m\u001b[0;34m.\u001b[0m\u001b[0malias\u001b[0m\u001b[0;34m(\u001b[0m\u001b[0;34m\"review_length\"\u001b[0m\u001b[0;34m)\u001b[0m\u001b[0;34m)\u001b[0m\u001b[0;34m\u001b[0m\u001b[0;34m\u001b[0m\u001b[0m\n\u001b[0m",
            "\u001b[0;31mAttributeError\u001b[0m: 'ExprStringNameSpace' object has no attribute 'len'"
          ]
        }
      ]
    },
    {
      "cell_type": "code",
      "source": [],
      "metadata": {
        "id": "qsmbrAVYCItx"
      },
      "execution_count": null,
      "outputs": []
    }
  ]
}