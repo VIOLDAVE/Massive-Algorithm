{
  "nbformat": 4,
  "nbformat_minor": 0,
  "metadata": {
    "colab": {
      "provenance": [],
      "authorship_tag": "ABX9TyNDONxR4MjmAHPzWYrdyKeI",
      "include_colab_link": true
    },
    "kernelspec": {
      "name": "python3",
      "display_name": "Python 3"
    },
    "language_info": {
      "name": "python"
    }
  },
  "cells": [
    {
      "cell_type": "markdown",
      "metadata": {
        "id": "view-in-github",
        "colab_type": "text"
      },
      "source": [
        "<a href=\"https://colab.research.google.com/github/VIOLDAVE/Massive-Algorithm/blob/main/Market.ipynb\" target=\"_parent\"><img src=\"https://colab.research.google.com/assets/colab-badge.svg\" alt=\"Open In Colab\"/></a>"
      ]
    },
    {
      "cell_type": "code",
      "execution_count": null,
      "metadata": {
        "colab": {
          "base_uri": "https://localhost:8080/"
        },
        "id": "jYejeyVBJKok",
        "outputId": "68d6c609-c71d-4f21-a046-6aa9b8dc14d8"
      },
      "outputs": [
        {
          "output_type": "stream",
          "name": "stdout",
          "text": [
            "Requirement already satisfied: polars in /usr/local/lib/python3.11/dist-packages (1.21.0)\n",
            "Requirement already satisfied: pyfpgrowth in /usr/local/lib/python3.11/dist-packages (1.0)\n",
            "Requirement already satisfied: mlxtend in /usr/local/lib/python3.11/dist-packages (0.23.4)\n",
            "Requirement already satisfied: spacy in /usr/local/lib/python3.11/dist-packages (3.8.7)\n",
            "Collecting datasketch\n",
            "  Using cached datasketch-1.6.5-py3-none-any.whl.metadata (5.8 kB)\n",
            "Collecting pyvis\n",
            "  Using cached pyvis-0.3.2-py3-none-any.whl.metadata (1.7 kB)\n",
            "Requirement already satisfied: scipy>=1.2.1 in /usr/local/lib/python3.11/dist-packages (from mlxtend) (1.15.3)\n",
            "Requirement already satisfied: numpy>=1.16.2 in /usr/local/lib/python3.11/dist-packages (from mlxtend) (2.0.2)\n",
            "Requirement already satisfied: pandas>=0.24.2 in /usr/local/lib/python3.11/dist-packages (from mlxtend) (2.2.2)\n",
            "Requirement already satisfied: scikit-learn>=1.3.1 in /usr/local/lib/python3.11/dist-packages (from mlxtend) (1.6.1)\n",
            "Requirement already satisfied: matplotlib>=3.0.0 in /usr/local/lib/python3.11/dist-packages (from mlxtend) (3.10.0)\n",
            "Requirement already satisfied: joblib>=0.13.2 in /usr/local/lib/python3.11/dist-packages (from mlxtend) (1.5.1)\n",
            "Requirement already satisfied: spacy-legacy<3.1.0,>=3.0.11 in /usr/local/lib/python3.11/dist-packages (from spacy) (3.0.12)\n",
            "Requirement already satisfied: spacy-loggers<2.0.0,>=1.0.0 in /usr/local/lib/python3.11/dist-packages (from spacy) (1.0.5)\n",
            "Requirement already satisfied: murmurhash<1.1.0,>=0.28.0 in /usr/local/lib/python3.11/dist-packages (from spacy) (1.0.13)\n",
            "Requirement already satisfied: cymem<2.1.0,>=2.0.2 in /usr/local/lib/python3.11/dist-packages (from spacy) (2.0.11)\n",
            "Requirement already satisfied: preshed<3.1.0,>=3.0.2 in /usr/local/lib/python3.11/dist-packages (from spacy) (3.0.10)\n",
            "Requirement already satisfied: thinc<8.4.0,>=8.3.4 in /usr/local/lib/python3.11/dist-packages (from spacy) (8.3.6)\n",
            "Requirement already satisfied: wasabi<1.2.0,>=0.9.1 in /usr/local/lib/python3.11/dist-packages (from spacy) (1.1.3)\n",
            "Requirement already satisfied: srsly<3.0.0,>=2.4.3 in /usr/local/lib/python3.11/dist-packages (from spacy) (2.5.1)\n",
            "Requirement already satisfied: catalogue<2.1.0,>=2.0.6 in /usr/local/lib/python3.11/dist-packages (from spacy) (2.0.10)\n",
            "Requirement already satisfied: weasel<0.5.0,>=0.1.0 in /usr/local/lib/python3.11/dist-packages (from spacy) (0.4.1)\n",
            "Requirement already satisfied: typer<1.0.0,>=0.3.0 in /usr/local/lib/python3.11/dist-packages (from spacy) (0.16.0)\n",
            "Requirement already satisfied: tqdm<5.0.0,>=4.38.0 in /usr/local/lib/python3.11/dist-packages (from spacy) (4.67.1)\n",
            "Requirement already satisfied: requests<3.0.0,>=2.13.0 in /usr/local/lib/python3.11/dist-packages (from spacy) (2.32.3)\n",
            "Requirement already satisfied: pydantic!=1.8,!=1.8.1,<3.0.0,>=1.7.4 in /usr/local/lib/python3.11/dist-packages (from spacy) (2.11.7)\n",
            "Requirement already satisfied: jinja2 in /usr/local/lib/python3.11/dist-packages (from spacy) (3.1.6)\n",
            "Requirement already satisfied: setuptools in /usr/local/lib/python3.11/dist-packages (from spacy) (75.2.0)\n",
            "Requirement already satisfied: packaging>=20.0 in /usr/local/lib/python3.11/dist-packages (from spacy) (24.2)\n",
            "Requirement already satisfied: langcodes<4.0.0,>=3.2.0 in /usr/local/lib/python3.11/dist-packages (from spacy) (3.5.0)\n",
            "Requirement already satisfied: ipython>=5.3.0 in /usr/local/lib/python3.11/dist-packages (from pyvis) (7.34.0)\n",
            "Requirement already satisfied: jsonpickle>=1.4.1 in /usr/local/lib/python3.11/dist-packages (from pyvis) (4.1.1)\n",
            "Requirement already satisfied: networkx>=1.11 in /usr/local/lib/python3.11/dist-packages (from pyvis) (3.5)\n",
            "Collecting jedi>=0.16 (from ipython>=5.3.0->pyvis)\n",
            "  Downloading jedi-0.19.2-py2.py3-none-any.whl.metadata (22 kB)\n",
            "Requirement already satisfied: decorator in /usr/local/lib/python3.11/dist-packages (from ipython>=5.3.0->pyvis) (4.4.2)\n",
            "Requirement already satisfied: pickleshare in /usr/local/lib/python3.11/dist-packages (from ipython>=5.3.0->pyvis) (0.7.5)\n",
            "Requirement already satisfied: traitlets>=4.2 in /usr/local/lib/python3.11/dist-packages (from ipython>=5.3.0->pyvis) (5.7.1)\n",
            "Requirement already satisfied: prompt-toolkit!=3.0.0,!=3.0.1,<3.1.0,>=2.0.0 in /usr/local/lib/python3.11/dist-packages (from ipython>=5.3.0->pyvis) (3.0.51)\n",
            "Requirement already satisfied: pygments in /usr/local/lib/python3.11/dist-packages (from ipython>=5.3.0->pyvis) (2.19.2)\n",
            "Requirement already satisfied: backcall in /usr/local/lib/python3.11/dist-packages (from ipython>=5.3.0->pyvis) (0.2.0)\n",
            "Requirement already satisfied: matplotlib-inline in /usr/local/lib/python3.11/dist-packages (from ipython>=5.3.0->pyvis) (0.1.7)\n",
            "Requirement already satisfied: pexpect>4.3 in /usr/local/lib/python3.11/dist-packages (from ipython>=5.3.0->pyvis) (4.9.0)\n",
            "Requirement already satisfied: MarkupSafe>=2.0 in /usr/local/lib/python3.11/dist-packages (from jinja2->spacy) (3.0.2)\n",
            "Requirement already satisfied: language-data>=1.2 in /usr/local/lib/python3.11/dist-packages (from langcodes<4.0.0,>=3.2.0->spacy) (1.3.0)\n",
            "Requirement already satisfied: contourpy>=1.0.1 in /usr/local/lib/python3.11/dist-packages (from matplotlib>=3.0.0->mlxtend) (1.3.2)\n",
            "Requirement already satisfied: cycler>=0.10 in /usr/local/lib/python3.11/dist-packages (from matplotlib>=3.0.0->mlxtend) (0.12.1)\n",
            "Requirement already satisfied: fonttools>=4.22.0 in /usr/local/lib/python3.11/dist-packages (from matplotlib>=3.0.0->mlxtend) (4.58.4)\n",
            "Requirement already satisfied: kiwisolver>=1.3.1 in /usr/local/lib/python3.11/dist-packages (from matplotlib>=3.0.0->mlxtend) (1.4.8)\n",
            "Requirement already satisfied: pillow>=8 in /usr/local/lib/python3.11/dist-packages (from matplotlib>=3.0.0->mlxtend) (11.2.1)\n",
            "Requirement already satisfied: pyparsing>=2.3.1 in /usr/local/lib/python3.11/dist-packages (from matplotlib>=3.0.0->mlxtend) (3.2.3)\n",
            "Requirement already satisfied: python-dateutil>=2.7 in /usr/local/lib/python3.11/dist-packages (from matplotlib>=3.0.0->mlxtend) (2.9.0.post0)\n",
            "Requirement already satisfied: pytz>=2020.1 in /usr/local/lib/python3.11/dist-packages (from pandas>=0.24.2->mlxtend) (2025.2)\n",
            "Requirement already satisfied: tzdata>=2022.7 in /usr/local/lib/python3.11/dist-packages (from pandas>=0.24.2->mlxtend) (2025.2)\n",
            "Requirement already satisfied: annotated-types>=0.6.0 in /usr/local/lib/python3.11/dist-packages (from pydantic!=1.8,!=1.8.1,<3.0.0,>=1.7.4->spacy) (0.7.0)\n",
            "Requirement already satisfied: pydantic-core==2.33.2 in /usr/local/lib/python3.11/dist-packages (from pydantic!=1.8,!=1.8.1,<3.0.0,>=1.7.4->spacy) (2.33.2)\n",
            "Requirement already satisfied: typing-extensions>=4.12.2 in /usr/local/lib/python3.11/dist-packages (from pydantic!=1.8,!=1.8.1,<3.0.0,>=1.7.4->spacy) (4.14.0)\n",
            "Requirement already satisfied: typing-inspection>=0.4.0 in /usr/local/lib/python3.11/dist-packages (from pydantic!=1.8,!=1.8.1,<3.0.0,>=1.7.4->spacy) (0.4.1)\n",
            "Requirement already satisfied: charset-normalizer<4,>=2 in /usr/local/lib/python3.11/dist-packages (from requests<3.0.0,>=2.13.0->spacy) (3.4.2)\n",
            "Requirement already satisfied: idna<4,>=2.5 in /usr/local/lib/python3.11/dist-packages (from requests<3.0.0,>=2.13.0->spacy) (3.10)\n",
            "Requirement already satisfied: urllib3<3,>=1.21.1 in /usr/local/lib/python3.11/dist-packages (from requests<3.0.0,>=2.13.0->spacy) (2.4.0)\n",
            "Requirement already satisfied: certifi>=2017.4.17 in /usr/local/lib/python3.11/dist-packages (from requests<3.0.0,>=2.13.0->spacy) (2025.6.15)\n",
            "Requirement already satisfied: threadpoolctl>=3.1.0 in /usr/local/lib/python3.11/dist-packages (from scikit-learn>=1.3.1->mlxtend) (3.6.0)\n",
            "Requirement already satisfied: blis<1.4.0,>=1.3.0 in /usr/local/lib/python3.11/dist-packages (from thinc<8.4.0,>=8.3.4->spacy) (1.3.0)\n",
            "Requirement already satisfied: confection<1.0.0,>=0.0.1 in /usr/local/lib/python3.11/dist-packages (from thinc<8.4.0,>=8.3.4->spacy) (0.1.5)\n",
            "Requirement already satisfied: click>=8.0.0 in /usr/local/lib/python3.11/dist-packages (from typer<1.0.0,>=0.3.0->spacy) (8.2.1)\n",
            "Requirement already satisfied: shellingham>=1.3.0 in /usr/local/lib/python3.11/dist-packages (from typer<1.0.0,>=0.3.0->spacy) (1.5.4)\n",
            "Requirement already satisfied: rich>=10.11.0 in /usr/local/lib/python3.11/dist-packages (from typer<1.0.0,>=0.3.0->spacy) (13.9.4)\n",
            "Requirement already satisfied: cloudpathlib<1.0.0,>=0.7.0 in /usr/local/lib/python3.11/dist-packages (from weasel<0.5.0,>=0.1.0->spacy) (0.21.1)\n",
            "Requirement already satisfied: smart-open<8.0.0,>=5.2.1 in /usr/local/lib/python3.11/dist-packages (from weasel<0.5.0,>=0.1.0->spacy) (7.1.0)\n",
            "Requirement already satisfied: parso<0.9.0,>=0.8.4 in /usr/local/lib/python3.11/dist-packages (from jedi>=0.16->ipython>=5.3.0->pyvis) (0.8.4)\n",
            "Requirement already satisfied: marisa-trie>=1.1.0 in /usr/local/lib/python3.11/dist-packages (from language-data>=1.2->langcodes<4.0.0,>=3.2.0->spacy) (1.2.1)\n",
            "Requirement already satisfied: ptyprocess>=0.5 in /usr/local/lib/python3.11/dist-packages (from pexpect>4.3->ipython>=5.3.0->pyvis) (0.7.0)\n",
            "Requirement already satisfied: wcwidth in /usr/local/lib/python3.11/dist-packages (from prompt-toolkit!=3.0.0,!=3.0.1,<3.1.0,>=2.0.0->ipython>=5.3.0->pyvis) (0.2.13)\n",
            "Requirement already satisfied: six>=1.5 in /usr/local/lib/python3.11/dist-packages (from python-dateutil>=2.7->matplotlib>=3.0.0->mlxtend) (1.17.0)\n",
            "Requirement already satisfied: markdown-it-py>=2.2.0 in /usr/local/lib/python3.11/dist-packages (from rich>=10.11.0->typer<1.0.0,>=0.3.0->spacy) (3.0.0)\n",
            "Requirement already satisfied: wrapt in /usr/local/lib/python3.11/dist-packages (from smart-open<8.0.0,>=5.2.1->weasel<0.5.0,>=0.1.0->spacy) (1.17.2)\n",
            "Requirement already satisfied: mdurl~=0.1 in /usr/local/lib/python3.11/dist-packages (from markdown-it-py>=2.2.0->rich>=10.11.0->typer<1.0.0,>=0.3.0->spacy) (0.1.2)\n",
            "Downloading datasketch-1.6.5-py3-none-any.whl (89 kB)\n",
            "\u001b[2K   \u001b[90m━━━━━━━━━━━━━━━━━━━━━━━━━━━━━━━━━━━━━━━━\u001b[0m \u001b[32m89.2/89.2 kB\u001b[0m \u001b[31m2.2 MB/s\u001b[0m eta \u001b[36m0:00:00\u001b[0m\n",
            "\u001b[?25hDownloading pyvis-0.3.2-py3-none-any.whl (756 kB)\n",
            "\u001b[2K   \u001b[90m━━━━━━━━━━━━━━━━━━━━━━━━━━━━━━━━━━━━━━━━\u001b[0m \u001b[32m756.0/756.0 kB\u001b[0m \u001b[31m14.0 MB/s\u001b[0m eta \u001b[36m0:00:00\u001b[0m\n",
            "\u001b[?25hDownloading jedi-0.19.2-py2.py3-none-any.whl (1.6 MB)\n",
            "\u001b[2K   \u001b[90m━━━━━━━━━━━━━━━━━━━━━━━━━━━━━━━━━━━━━━━━\u001b[0m \u001b[32m1.6/1.6 MB\u001b[0m \u001b[31m53.0 MB/s\u001b[0m eta \u001b[36m0:00:00\u001b[0m\n",
            "\u001b[?25hInstalling collected packages: jedi, datasketch, pyvis\n",
            "Successfully installed datasketch-1.6.5 jedi-0.19.2 pyvis-0.3.2\n"
          ]
        }
      ],
      "source": [
        "!pip install polars pyfpgrowth mlxtend spacy datasketch pyvis #rapids-cuml"
      ]
    },
    {
      "cell_type": "code",
      "source": [
        "!pip install pyfpgrowth==1.0"
      ],
      "metadata": {
        "colab": {
          "base_uri": "https://localhost:8080/"
        },
        "id": "NM6VgaMibww2",
        "outputId": "0cd38ed9-87bf-44fd-d579-20d6462c6186"
      },
      "execution_count": null,
      "outputs": [
        {
          "output_type": "stream",
          "name": "stdout",
          "text": [
            "Requirement already satisfied: pyfpgrowth==1.0 in /usr/local/lib/python3.11/dist-packages (1.0)\n"
          ]
        }
      ]
    },
    {
      "cell_type": "code",
      "source": [
        "\n",
        "import os\n",
        "import polars as pl\n",
        "from pathlib import Path"
      ],
      "metadata": {
        "id": "OI8po453Jzmt"
      },
      "execution_count": null,
      "outputs": []
    },
    {
      "cell_type": "code",
      "source": [
        "# Kaggle Authentication\n",
        "os.environ[\"KAGGLE_USERNAME\"] = \"aworviola2\"\n",
        "os.environ[\"KAGGLE_KEY\"] = \"b10218d275dad1e914008b49da4f407d\"\n",
        "!mkdir -p ~/.kaggle\n",
        "!echo '{\"username\":\"aworviola2\",\"key\":\"b10218d275dad1e914008b49da4f407d\"}' > ~/.kaggle/kaggle.json\n",
        "!chmod 600 ~/.kaggle/kaggle.json  # Critical permission setting\n"
      ],
      "metadata": {
        "id": "VLQsj37KKiQO"
      },
      "execution_count": null,
      "outputs": []
    },
    {
      "cell_type": "code",
      "source": [
        "dataset = \"arashnic/book-recommendation-dataset\"\n",
        "data_dir = Path(\"data\")\n",
        "data_dir.mkdir(exist_ok=True)"
      ],
      "metadata": {
        "id": "utoR0dUiOzLg"
      },
      "execution_count": null,
      "outputs": []
    },
    {
      "cell_type": "markdown",
      "source": [
        "Data downloading"
      ],
      "metadata": {
        "id": "9buZHHi-Yr-B"
      }
    },
    {
      "cell_type": "code",
      "source": [
        "\n",
        "!kaggle datasets download -d mohamedbakhet/amazon-books-reviews -p {data_dir} --unzip\n",
        "df = pl.scan_csv(data_dir / \"Books_rating.csv\").collect()"
      ],
      "metadata": {
        "id": "zZ23bdyGQmgD",
        "colab": {
          "base_uri": "https://localhost:8080/"
        },
        "outputId": "4874df97-f368-4ba0-d4cf-f9b5eea9f31b"
      },
      "execution_count": null,
      "outputs": [
        {
          "output_type": "stream",
          "name": "stdout",
          "text": [
            "Dataset URL: https://www.kaggle.com/datasets/mohamedbakhet/amazon-books-reviews\n",
            "License(s): CC0-1.0\n",
            "Downloading amazon-books-reviews.zip to data\n",
            " 99% 1.05G/1.06G [00:03<00:00, 283MB/s]\n",
            "100% 1.06G/1.06G [00:04<00:00, 279MB/s]\n"
          ]
        }
      ]
    },
    {
      "cell_type": "markdown",
      "source": [
        "Explorartory data analysis"
      ],
      "metadata": {
        "id": "AlPMQYWPk4V7"
      }
    },
    {
      "cell_type": "code",
      "source": [
        "display(df.head())"
      ],
      "metadata": {
        "colab": {
          "base_uri": "https://localhost:8080/",
          "height": 342
        },
        "id": "gs7T-tURgBxg",
        "outputId": "640de46c-123b-400c-8637-d776c92a1c2b"
      },
      "execution_count": null,
      "outputs": [
        {
          "output_type": "display_data",
          "data": {
            "text/plain": [
              "shape: (5, 10)\n",
              "┌────────────┬────────────┬───────┬────────────┬───┬───────────┬───────────┬───────────┬───────────┐\n",
              "│ Id         ┆ Title      ┆ Price ┆ User_id    ┆ … ┆ review/sc ┆ review/ti ┆ review/su ┆ review/te │\n",
              "│ ---        ┆ ---        ┆ ---   ┆ ---        ┆   ┆ ore       ┆ me        ┆ mmary     ┆ xt        │\n",
              "│ str        ┆ str        ┆ f64   ┆ str        ┆   ┆ ---       ┆ ---       ┆ ---       ┆ ---       │\n",
              "│            ┆            ┆       ┆            ┆   ┆ f64       ┆ i64       ┆ str       ┆ str       │\n",
              "╞════════════╪════════════╪═══════╪════════════╪═══╪═══════════╪═══════════╪═══════════╪═══════════╡\n",
              "│ 1882931173 ┆ Its Only   ┆ null  ┆ AVCGYZL8FQ ┆ … ┆ 4.0       ┆ 940636800 ┆ Nice coll ┆ This is   │\n",
              "│            ┆ Art If Its ┆       ┆ QTD        ┆   ┆           ┆           ┆ ection of ┆ only for  │\n",
              "│            ┆ Well Hung! ┆       ┆            ┆   ┆           ┆           ┆ Julie     ┆ Julie     │\n",
              "│            ┆            ┆       ┆            ┆   ┆           ┆           ┆ Strai…    ┆ Strain …  │\n",
              "│ 0826414346 ┆ Dr. Seuss: ┆ null  ┆ A30TK6U7DN ┆ … ┆ 5.0       ┆ 109572480 ┆ Really    ┆ I don't   │\n",
              "│            ┆ American   ┆       ┆ S82R       ┆   ┆           ┆ 0         ┆ Enjoyed   ┆ care much │\n",
              "│            ┆ Icon       ┆       ┆            ┆   ┆           ┆           ┆ It        ┆ for Dr.   │\n",
              "│            ┆            ┆       ┆            ┆   ┆           ┆           ┆           ┆ Seus…     │\n",
              "│ 0826414346 ┆ Dr. Seuss: ┆ null  ┆ A3UH4UZ4RS ┆ … ┆ 5.0       ┆ 107879040 ┆ Essential ┆ If people │\n",
              "│            ┆ American   ┆       ┆ VO82       ┆   ┆           ┆ 0         ┆ for every ┆ become    │\n",
              "│            ┆ Icon       ┆       ┆            ┆   ┆           ┆           ┆ personal  ┆ the books │\n",
              "│            ┆            ┆       ┆            ┆   ┆           ┆           ┆ a…        ┆ the…      │\n",
              "│ 0826414346 ┆ Dr. Seuss: ┆ null  ┆ A2MVUWT453 ┆ … ┆ 4.0       ┆ 109071360 ┆ Phlip Nel ┆ Theodore  │\n",
              "│            ┆ American   ┆       ┆ QH61       ┆   ┆           ┆ 0         ┆ gives     ┆ Seuss     │\n",
              "│            ┆ Icon       ┆       ┆            ┆   ┆           ┆           ┆ silly     ┆ Geisel    │\n",
              "│            ┆            ┆       ┆            ┆   ┆           ┆           ┆ Seuss a … ┆ (1904-19… │\n",
              "│ 0826414346 ┆ Dr. Seuss: ┆ null  ┆ A22X4XUPKF ┆ … ┆ 4.0       ┆ 110799360 ┆ Good      ┆ Philip    │\n",
              "│            ┆ American   ┆       ┆ 66MR       ┆   ┆           ┆ 0         ┆ academic  ┆ Nel - Dr. │\n",
              "│            ┆ Icon       ┆       ┆            ┆   ┆           ┆           ┆ overview  ┆ Seuss:    │\n",
              "│            ┆            ┆       ┆            ┆   ┆           ┆           ┆           ┆ Americ…   │\n",
              "└────────────┴────────────┴───────┴────────────┴───┴───────────┴───────────┴───────────┴───────────┘"
            ],
            "text/html": [
              "<div><style>\n",
              ".dataframe > thead > tr,\n",
              ".dataframe > tbody > tr {\n",
              "  text-align: right;\n",
              "  white-space: pre-wrap;\n",
              "}\n",
              "</style>\n",
              "<small>shape: (5, 10)</small><table border=\"1\" class=\"dataframe\"><thead><tr><th>Id</th><th>Title</th><th>Price</th><th>User_id</th><th>profileName</th><th>review/helpfulness</th><th>review/score</th><th>review/time</th><th>review/summary</th><th>review/text</th></tr><tr><td>str</td><td>str</td><td>f64</td><td>str</td><td>str</td><td>str</td><td>f64</td><td>i64</td><td>str</td><td>str</td></tr></thead><tbody><tr><td>&quot;1882931173&quot;</td><td>&quot;Its Only Art If Its Well Hung!&quot;</td><td>null</td><td>&quot;AVCGYZL8FQQTD&quot;</td><td>&quot;Jim of Oz &quot;jim-of-oz&quot;&quot;</td><td>&quot;7/7&quot;</td><td>4.0</td><td>940636800</td><td>&quot;Nice collection of Julie Strai…</td><td>&quot;This is only for Julie Strain …</td></tr><tr><td>&quot;0826414346&quot;</td><td>&quot;Dr. Seuss: American Icon&quot;</td><td>null</td><td>&quot;A30TK6U7DNS82R&quot;</td><td>&quot;Kevin Killian&quot;</td><td>&quot;10/10&quot;</td><td>5.0</td><td>1095724800</td><td>&quot;Really Enjoyed It&quot;</td><td>&quot;I don&#x27;t care much for Dr. Seus…</td></tr><tr><td>&quot;0826414346&quot;</td><td>&quot;Dr. Seuss: American Icon&quot;</td><td>null</td><td>&quot;A3UH4UZ4RSVO82&quot;</td><td>&quot;John Granger&quot;</td><td>&quot;10/11&quot;</td><td>5.0</td><td>1078790400</td><td>&quot;Essential for every personal a…</td><td>&quot;If people become the books the…</td></tr><tr><td>&quot;0826414346&quot;</td><td>&quot;Dr. Seuss: American Icon&quot;</td><td>null</td><td>&quot;A2MVUWT453QH61&quot;</td><td>&quot;Roy E. Perry &quot;amateur philosop…</td><td>&quot;7/7&quot;</td><td>4.0</td><td>1090713600</td><td>&quot;Phlip Nel gives silly Seuss a …</td><td>&quot;Theodore Seuss Geisel (1904-19…</td></tr><tr><td>&quot;0826414346&quot;</td><td>&quot;Dr. Seuss: American Icon&quot;</td><td>null</td><td>&quot;A22X4XUPKF66MR&quot;</td><td>&quot;D. H. Richards &quot;ninthwavestore…</td><td>&quot;3/3&quot;</td><td>4.0</td><td>1107993600</td><td>&quot;Good academic overview&quot;</td><td>&quot;Philip Nel - Dr. Seuss: Americ…</td></tr></tbody></table></div>"
            ]
          },
          "metadata": {}
        }
      ]
    },
    {
      "cell_type": "code",
      "source": [
        "display(df.describe())"
      ],
      "metadata": {
        "colab": {
          "base_uri": "https://localhost:8080/",
          "height": 522
        },
        "id": "XE0wWtiJnwJU",
        "outputId": "b6043378-8c4a-4bb4-9239-dfd5c8b9de7c"
      },
      "execution_count": null,
      "outputs": [
        {
          "output_type": "display_data",
          "data": {
            "text/plain": [
              "shape: (9, 11)\n",
              "┌───────────┬───────────┬───────────┬───────────┬───┬───────────┬───────────┬───────────┬──────────┐\n",
              "│ statistic ┆ Id        ┆ Title     ┆ Price     ┆ … ┆ review/sc ┆ review/ti ┆ review/su ┆ review/t │\n",
              "│ ---       ┆ ---       ┆ ---       ┆ ---       ┆   ┆ ore       ┆ me        ┆ mmary     ┆ ext      │\n",
              "│ str       ┆ str       ┆ str       ┆ f64       ┆   ┆ ---       ┆ ---       ┆ ---       ┆ ---      │\n",
              "│           ┆           ┆           ┆           ┆   ┆ f64       ┆ f64       ┆ str       ┆ str      │\n",
              "╞═══════════╪═══════════╪═══════════╪═══════════╪═══╪═══════════╪═══════════╪═══════════╪══════════╡\n",
              "│ count     ┆ 3000000   ┆ 2999792   ┆ 481171.0  ┆ … ┆ 3e6       ┆ 3e6       ┆ 2999962   ┆ 2999992  │\n",
              "│ null_coun ┆ 0         ┆ 208       ┆ 2.518829e ┆ … ┆ 0.0       ┆ 0.0       ┆ 38        ┆ 8        │\n",
              "│ t         ┆           ┆           ┆ 6         ┆   ┆           ┆           ┆           ┆          │\n",
              "│ mean      ┆ null      ┆ null      ┆ 21.762656 ┆ … ┆ 4.215289  ┆ 1.1323e9  ┆ null      ┆ null     │\n",
              "│ std       ┆ null      ┆ null      ┆ 26.206541 ┆ … ┆ 1.203054  ┆ 1.4932e8  ┆ null      ┆ null     │\n",
              "│ min       ┆ 000104760 ┆ \" Film    ┆ 1.0       ┆ … ┆ 1.0       ┆ -1.0      ┆ !         ┆ \u0011The Tao │\n",
              "│           ┆ 4         ┆ technique ┆           ┆   ┆           ┆           ┆           ┆ of       │\n",
              "│           ┆           ┆ , \" and,  ┆           ┆   ┆           ┆           ┆           ┆ Muhammad │\n",
              "│           ┆           ┆ \" Fil…    ┆           ┆   ┆           ┆           ┆           ┆ Ali\u0012 is  │\n",
              "│           ┆           ┆           ┆           ┆   ┆           ┆           ┆           ┆ t…       │\n",
              "│ 25%       ┆ null      ┆ null      ┆ 10.78     ┆ … ┆ 4.0       ┆ 9.999072e ┆ null      ┆ null     │\n",
              "│           ┆           ┆           ┆           ┆   ┆           ┆ 8         ┆           ┆          │\n",
              "│ 50%       ┆ null      ┆ null      ┆ 14.93     ┆ … ┆ 5.0       ┆ 1.1283e9  ┆ null      ┆ null     │\n",
              "│ 75%       ┆ null      ┆ null      ┆ 23.95     ┆ … ┆ 5.0       ┆ 1.2691e9  ┆ null      ┆ null     │\n",
              "│ max       ┆ B0064P287 ┆ you can   ┆ 995.0     ┆ … ┆ 5.0       ┆ 1.3624e9  ┆ ~~~~~~~~~ ┆ ~~~~~~~~ │\n",
              "│           ┆ I         ┆ do        ┆           ┆   ┆           ┆           ┆ ~~~~~~~~~ ┆ ~~~~~~~~ │\n",
              "│           ┆           ┆ anything  ┆           ┆   ┆           ┆           ┆ ~~~~~~~~  ┆ ~~~~~~~~ │\n",
              "│           ┆           ┆ with      ┆           ┆   ┆           ┆           ┆           ┆ ~~~~~~…  │\n",
              "│           ┆           ┆ crepe…    ┆           ┆   ┆           ┆           ┆           ┆          │\n",
              "└───────────┴───────────┴───────────┴───────────┴───┴───────────┴───────────┴───────────┴──────────┘"
            ],
            "text/html": [
              "<div><style>\n",
              ".dataframe > thead > tr,\n",
              ".dataframe > tbody > tr {\n",
              "  text-align: right;\n",
              "  white-space: pre-wrap;\n",
              "}\n",
              "</style>\n",
              "<small>shape: (9, 11)</small><table border=\"1\" class=\"dataframe\"><thead><tr><th>statistic</th><th>Id</th><th>Title</th><th>Price</th><th>User_id</th><th>profileName</th><th>review/helpfulness</th><th>review/score</th><th>review/time</th><th>review/summary</th><th>review/text</th></tr><tr><td>str</td><td>str</td><td>str</td><td>f64</td><td>str</td><td>str</td><td>str</td><td>f64</td><td>f64</td><td>str</td><td>str</td></tr></thead><tbody><tr><td>&quot;count&quot;</td><td>&quot;3000000&quot;</td><td>&quot;2999792&quot;</td><td>481171.0</td><td>&quot;2438213&quot;</td><td>&quot;2438114&quot;</td><td>&quot;3000000&quot;</td><td>3e6</td><td>3e6</td><td>&quot;2999962&quot;</td><td>&quot;2999992&quot;</td></tr><tr><td>&quot;null_count&quot;</td><td>&quot;0&quot;</td><td>&quot;208&quot;</td><td>2.518829e6</td><td>&quot;561787&quot;</td><td>&quot;561886&quot;</td><td>&quot;0&quot;</td><td>0.0</td><td>0.0</td><td>&quot;38&quot;</td><td>&quot;8&quot;</td></tr><tr><td>&quot;mean&quot;</td><td>null</td><td>null</td><td>21.762656</td><td>null</td><td>null</td><td>null</td><td>4.215289</td><td>1.1323e9</td><td>null</td><td>null</td></tr><tr><td>&quot;std&quot;</td><td>null</td><td>null</td><td>26.206541</td><td>null</td><td>null</td><td>null</td><td>1.203054</td><td>1.4932e8</td><td>null</td><td>null</td></tr><tr><td>&quot;min&quot;</td><td>&quot;0001047604&quot;</td><td>&quot;&quot; Film technique, &quot; and, &quot; Fil…</td><td>1.0</td><td>&quot;A00109803PZJ91RLT7DPN&quot;</td><td>&quot;\u001a&quot;</td><td>&quot;0/0&quot;</td><td>1.0</td><td>-1.0</td><td>&quot;!&quot;</td><td>&quot;\u0011The Tao of Muhammad Ali\u0012 is t…</td></tr><tr><td>&quot;25%&quot;</td><td>null</td><td>null</td><td>10.78</td><td>null</td><td>null</td><td>null</td><td>4.0</td><td>9.999072e8</td><td>null</td><td>null</td></tr><tr><td>&quot;50%&quot;</td><td>null</td><td>null</td><td>14.93</td><td>null</td><td>null</td><td>null</td><td>5.0</td><td>1.1283e9</td><td>null</td><td>null</td></tr><tr><td>&quot;75%&quot;</td><td>null</td><td>null</td><td>23.95</td><td>null</td><td>null</td><td>null</td><td>5.0</td><td>1.2691e9</td><td>null</td><td>null</td></tr><tr><td>&quot;max&quot;</td><td>&quot;B0064P287I&quot;</td><td>&quot;you can do anything with crepe…</td><td>995.0</td><td>&quot;AZZZZW74AAX75&quot;</td><td>&quot;~~~~~~~&quot;</td><td>&quot;997/1090&quot;</td><td>5.0</td><td>1.3624e9</td><td>&quot;~~~~~~~~~~~~~~~~~~~~~~~~~~&quot;</td><td>&quot;~~~~~~~~~~~~~~~~~~~~~~~~~~~~~~…</td></tr></tbody></table></div>"
            ]
          },
          "metadata": {}
        }
      ]
    },
    {
      "cell_type": "code",
      "source": [
        "import matplotlib.pyplot as plt\n",
        "import seaborn as sns"
      ],
      "metadata": {
        "id": "s7WVzUt4fWY1"
      },
      "execution_count": null,
      "outputs": []
    },
    {
      "cell_type": "code",
      "source": [
        "df.null_count()"
      ],
      "metadata": {
        "colab": {
          "base_uri": "https://localhost:8080/",
          "height": 129
        },
        "id": "7mVLe73wjKPB",
        "outputId": "d23a0447-1615-41bc-ec6d-39b6441db2a0"
      },
      "execution_count": null,
      "outputs": [
        {
          "output_type": "execute_result",
          "data": {
            "text/plain": [
              "shape: (1, 10)\n",
              "┌─────┬───────┬─────────┬─────────┬───┬──────────────┬─────────────┬────────────────┬─────────────┐\n",
              "│ Id  ┆ Title ┆ Price   ┆ User_id ┆ … ┆ review/score ┆ review/time ┆ review/summary ┆ review/text │\n",
              "│ --- ┆ ---   ┆ ---     ┆ ---     ┆   ┆ ---          ┆ ---         ┆ ---            ┆ ---         │\n",
              "│ u32 ┆ u32   ┆ u32     ┆ u32     ┆   ┆ u32          ┆ u32         ┆ u32            ┆ u32         │\n",
              "╞═════╪═══════╪═════════╪═════════╪═══╪══════════════╪═════════════╪════════════════╪═════════════╡\n",
              "│ 0   ┆ 208   ┆ 2518829 ┆ 561787  ┆ … ┆ 0            ┆ 0           ┆ 38             ┆ 8           │\n",
              "└─────┴───────┴─────────┴─────────┴───┴──────────────┴─────────────┴────────────────┴─────────────┘"
            ],
            "text/html": [
              "<div><style>\n",
              ".dataframe > thead > tr,\n",
              ".dataframe > tbody > tr {\n",
              "  text-align: right;\n",
              "  white-space: pre-wrap;\n",
              "}\n",
              "</style>\n",
              "<small>shape: (1, 10)</small><table border=\"1\" class=\"dataframe\"><thead><tr><th>Id</th><th>Title</th><th>Price</th><th>User_id</th><th>profileName</th><th>review/helpfulness</th><th>review/score</th><th>review/time</th><th>review/summary</th><th>review/text</th></tr><tr><td>u32</td><td>u32</td><td>u32</td><td>u32</td><td>u32</td><td>u32</td><td>u32</td><td>u32</td><td>u32</td><td>u32</td></tr></thead><tbody><tr><td>0</td><td>208</td><td>2518829</td><td>561787</td><td>561886</td><td>0</td><td>0</td><td>0</td><td>38</td><td>8</td></tr></tbody></table></div>"
            ]
          },
          "metadata": {},
          "execution_count": 12
        }
      ]
    },
    {
      "cell_type": "code",
      "source": [
        "display(df.is_duplicated().sum())"
      ],
      "metadata": {
        "colab": {
          "base_uri": "https://localhost:8080/",
          "height": 35
        },
        "id": "wKSWvrnhmBFi",
        "outputId": "66f2362a-9772-4ea8-ff3a-3e1893b15fe8"
      },
      "execution_count": null,
      "outputs": [
        {
          "output_type": "display_data",
          "data": {
            "text/plain": [
              "16483"
            ]
          },
          "metadata": {}
        }
      ]
    },
    {
      "cell_type": "code",
      "metadata": {
        "colab": {
          "base_uri": "https://localhost:8080/",
          "height": 144
        },
        "id": "dd9e44d5",
        "outputId": "00585bda-5430-4666-e6c2-d408b1ad18f7"
      },
      "source": [],
      "execution_count": null,
      "outputs": [
        {
          "output_type": "error",
          "ename": "AttributeError",
          "evalue": "'DataFrame' object has no attribute 'is_null'",
          "traceback": [
            "\u001b[0;31m---------------------------------------------------------------------------\u001b[0m",
            "\u001b[0;31mAttributeError\u001b[0m                            Traceback (most recent call last)",
            "\u001b[0;32m/tmp/ipython-input-16-3236086775.py\u001b[0m in \u001b[0;36m<cell line: 0>\u001b[0;34m()\u001b[0m\n\u001b[0;32m----> 1\u001b[0;31m \u001b[0mdisplay\u001b[0m\u001b[0;34m(\u001b[0m\u001b[0mdf\u001b[0m\u001b[0;34m.\u001b[0m\u001b[0mis_null\u001b[0m\u001b[0;34m)\u001b[0m\u001b[0;34m\u001b[0m\u001b[0;34m\u001b[0m\u001b[0m\n\u001b[0m",
            "\u001b[0;31mAttributeError\u001b[0m: 'DataFrame' object has no attribute 'is_null'"
          ]
        }
      ]
    }
  ]
}